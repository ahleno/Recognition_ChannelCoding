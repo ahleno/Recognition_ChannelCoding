{
 "cells": [
  {
   "cell_type": "code",
   "execution_count": 3,
   "metadata": {},
   "outputs": [],
   "source": [
    "# import seaborn as sns\n",
    "from tqdm import tqdm\n",
    "import pandas as pd\n",
    "import matplotlib.pyplot as plt\n",
    "import numpy as np\n",
    "import cv2\n",
    "import pickle\n",
    "from gaf import GramianAngularField \n",
    "from pathlib import Path"
   ]
  },
  {
   "cell_type": "code",
   "execution_count": 5,
   "metadata": {},
   "outputs": [],
   "source": [
    "def to_onehot(yy):\n",
    "    yy1 = np.zeros([len(yy), max(yy) + 1])\n",
    "    yy1[np.arange(len(yy)), yy] = 1\n",
    "    return yy1\n",
    "\n",
    "\n",
    "def generate_gaf(sin_data, image_size):\n",
    "    min_ = np.amin(sin_data)\n",
    "    max_ = np.amax(sin_data)\n",
    "    scaled_serie = (2 * sin_data - max_ - min_) / (max_ - min_)\n",
    "    gasf = GramianAngularField(image_size=image_size, method='summation',) #sample_range=(min_, max_)\n",
    "    sin_gasf = gasf.transform(scaled_serie)\n",
    "    gadf = GramianAngularField(image_size=image_size, method='difference',)\n",
    "    sin_gadf = gadf.transform(scaled_serie)\n",
    "    images = [sin_gasf[0], sin_gadf[0]]\n",
    "    return images"
   ]
  },
  {
   "cell_type": "code",
   "execution_count": 5,
   "metadata": {},
   "outputs": [],
   "source": [
    "np.random.seed(42)\n",
    "mods = ['BPSK']\n",
    "snrs = list(range(-20, 21, 1))\n",
    "\n",
    "current_dir = Path('img_gaf.ipynb').parent\n",
    "\n",
    "base_dir = current_dir / 'DATASET_FOR_GAF_1_128'"
   ]
  },
  {
   "cell_type": "code",
   "execution_count": 10,
   "metadata": {},
   "outputs": [
    {
     "name": "stdout",
     "output_type": "stream",
     "text": [
      "The history saving thread hit an unexpected error (OperationalError('database or disk is full')).History will not be written to the database.\n"
     ]
    },
    {
     "name": "stderr",
     "output_type": "stream",
     "text": [
      "100%|██████████| 98400/98400 [00:47<00:00, 2050.15it/s]\n",
      "100%|██████████| 12300/12300 [00:07<00:00, 1538.44it/s]\n",
      "100%|██████████| 12300/12300 [00:08<00:00, 1439.87it/s]\n"
     ]
    },
    {
     "name": "stdout",
     "output_type": "stream",
     "text": [
      "GASF 이미지 생성 및 저장 완료\n"
     ]
    }
   ],
   "source": [
    "\n",
    "\n",
    "x_train = np.load(base_dir / \"x_train.npy\", allow_pickle=True)\n",
    "x_test = np.load(base_dir / \"x_test.npy\", allow_pickle=True)\n",
    "x_val = np.load(base_dir / \"x_val.npy\", allow_pickle=True)\n",
    "\n",
    "w, h, c = 128, 128, 3\n",
    "\n",
    "x_train_imgs = []\n",
    "x_test_imgs = []\n",
    "x_val_imgs = []\n",
    "\n",
    "# x_train에 대한 GAF 이미지 생성\n",
    "for i in tqdm(range(x_train.shape[0])):\n",
    "    data = x_train[i, 0, :]  # 길이 128의 1차원 배열로 데이터 접근\n",
    "    data = data.reshape(1, -1)  # (1, 128)로 reshape\n",
    "    gaf_images = generate_gaf(data, 128)  # GAF 이미지 생성\n",
    "    resultant = cv2.resize(gaf_images[0], (w, h))  # 원하는 크기로 리사이즈\n",
    "    x_train_imgs.append(resultant)\n",
    "\n",
    "# x_train GASF 이미지 저장\n",
    "np.save(base_dir / \"x_train_gasf.npy\", x_train_imgs)\n",
    "\n",
    "# x_test에 대한 GAF 이미지 생성\n",
    "for i in tqdm(range(x_test.shape[0])):\n",
    "    data = x_test[i, 0, :]  # 길이 128의 1차원 배열로 데이터 접근\n",
    "    data = data.reshape(1, -1)  # (1, 128)로 reshape\n",
    "    gaf_images = generate_gaf(data, 128)  # GAF 이미지 생성\n",
    "    resultant = cv2.resize(gaf_images[0], (w, h))  # 원하는 크기로 리사이즈\n",
    "    x_test_imgs.append(resultant)\n",
    "\n",
    "# x_test GASF 이미지 저장\n",
    "np.save(base_dir / \"x_test_gasf.npy\", x_test_imgs)\n",
    "\n",
    "# x_val에 대한 GAF 이미지 생성\n",
    "for i in tqdm(range(x_val.shape[0])):\n",
    "    data = x_val[i, 0, :]  # 길이 128의 1차원 배열로 데이터 접근\n",
    "    data = data.reshape(1, -1)  # (1, 128)로 reshape\n",
    "    gaf_images = generate_gaf(data, 128)  # GAF 이미지 생성\n",
    "    resultant = cv2.resize(gaf_images[0], (w, h))  # 원하는 크기로 리사이즈\n",
    "    x_val_imgs.append(resultant)\n",
    "\n",
    "# x_val GASF 이미지 저장\n",
    "np.save(base_dir / \"x_val_gasf.npy\", x_val_imgs)\n",
    "\n",
    "print(\"GASF 이미지 생성 및 저장 완료\")"
   ]
  },
  {
   "cell_type": "markdown",
   "metadata": {},
   "source": [
    "# 채널 분리"
   ]
  },
  {
   "cell_type": "code",
   "execution_count": 6,
   "metadata": {},
   "outputs": [
    {
     "name": "stdout",
     "output_type": "stream",
     "text": [
      "(98400, 128, 128)\n",
      "[[[ 1.  1. -1. ...  1. -1. -1.]\n",
      "  [ 1.  1. -1. ...  1. -1. -1.]\n",
      "  [-1. -1.  1. ... -1.  1.  1.]\n",
      "  ...\n",
      "  [ 1.  1. -1. ...  1. -1. -1.]\n",
      "  [-1. -1.  1. ... -1.  1.  1.]\n",
      "  [-1. -1.  1. ... -1.  1.  1.]]\n",
      "\n",
      " [[ 1.  1. -1. ...  1.  1.  1.]\n",
      "  [ 1.  1. -1. ...  1.  1.  1.]\n",
      "  [-1. -1.  1. ... -1. -1. -1.]\n",
      "  ...\n",
      "  [ 1.  1. -1. ...  1.  1.  1.]\n",
      "  [ 1.  1. -1. ...  1.  1.  1.]\n",
      "  [ 1.  1. -1. ...  1.  1.  1.]]\n",
      "\n",
      " [[ 1.  1. -1. ... -1.  1. -1.]\n",
      "  [ 1.  1. -1. ... -1.  1. -1.]\n",
      "  [-1. -1.  1. ...  1. -1.  1.]\n",
      "  ...\n",
      "  [-1. -1.  1. ...  1. -1.  1.]\n",
      "  [ 1.  1. -1. ... -1.  1. -1.]\n",
      "  [-1. -1.  1. ...  1. -1.  1.]]\n",
      "\n",
      " ...\n",
      "\n",
      " [[ 1.  1. -1. ...  1. -1. -1.]\n",
      "  [ 1.  1. -1. ...  1. -1. -1.]\n",
      "  [-1. -1.  1. ... -1.  1.  1.]\n",
      "  ...\n",
      "  [ 1.  1. -1. ...  1. -1. -1.]\n",
      "  [-1. -1.  1. ... -1.  1.  1.]\n",
      "  [-1. -1.  1. ... -1.  1.  1.]]\n",
      "\n",
      " [[ 1.  1.  1. ...  1. -1. -1.]\n",
      "  [ 1.  1.  1. ...  1. -1. -1.]\n",
      "  [ 1.  1.  1. ...  1. -1. -1.]\n",
      "  ...\n",
      "  [ 1.  1.  1. ...  1. -1. -1.]\n",
      "  [-1. -1. -1. ... -1.  1.  1.]\n",
      "  [-1. -1. -1. ... -1.  1.  1.]]\n",
      "\n",
      " [[ 1.  1.  1. ... -1. -1. -1.]\n",
      "  [ 1.  1.  1. ... -1. -1. -1.]\n",
      "  [ 1.  1.  1. ... -1. -1. -1.]\n",
      "  ...\n",
      "  [-1. -1. -1. ...  1.  1.  1.]\n",
      "  [-1. -1. -1. ...  1.  1.  1.]\n",
      "  [-1. -1. -1. ...  1.  1.  1.]]]\n"
     ]
    }
   ],
   "source": [
    "train = np.load(base_dir / \"x_train_gasf.npy\")\n",
    "print(train.shape)\n",
    "print(train)"
   ]
  },
  {
   "cell_type": "code",
   "execution_count": null,
   "metadata": {},
   "outputs": [],
   "source": []
  }
 ],
 "metadata": {
  "kernelspec": {
   "display_name": "pytorch",
   "language": "python",
   "name": "python3"
  },
  "language_info": {
   "codemirror_mode": {
    "name": "ipython",
    "version": 3
   },
   "file_extension": ".py",
   "mimetype": "text/x-python",
   "name": "python",
   "nbconvert_exporter": "python",
   "pygments_lexer": "ipython3",
   "version": "3.12.4"
  }
 },
 "nbformat": 4,
 "nbformat_minor": 2
}
