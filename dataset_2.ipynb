{
 "cells": [
  {
   "cell_type": "markdown",
   "metadata": {},
   "source": [
    "# Implements"
   ]
  },
  {
   "cell_type": "code",
   "execution_count": 2,
   "metadata": {},
   "outputs": [],
   "source": [
    "import numpy as np\n",
    "import os\n",
    "import os.path\n",
    "from tqdm import tqdm\n",
    "\n",
    "from pathlib import Path"
   ]
  },
  {
   "cell_type": "markdown",
   "metadata": {},
   "source": [
    "# Parameter Settings"
   ]
  },
  {
   "cell_type": "code",
   "execution_count": 3,
   "metadata": {},
   "outputs": [
    {
     "name": "stdout",
     "output_type": "stream",
     "text": [
      "데이터 셋 폴더 생성\n"
     ]
    }
   ],
   "source": [
    "# 데이터 셋 폴더 생성 위치\n",
    "current_dir = Path('dataset_2.ipynb').parent\n",
    "dest = current_dir / 'DATASET_32X32'\n",
    "\n",
    "if not os.path.exists(dest):\n",
    "    os.mkdir(dest)\n",
    "    print(\"데이터 셋 폴더 생성\")"
   ]
  },
  {
   "cell_type": "code",
   "execution_count": 4,
   "metadata": {},
   "outputs": [],
   "source": [
    "# 샘플 수 설정\n",
    "num_samples = 500"
   ]
  },
  {
   "cell_type": "code",
   "execution_count": 5,
   "metadata": {},
   "outputs": [],
   "source": [
    "# SNR 범위 설정\n",
    "SNR = range(-5, 21, 1)"
   ]
  },
  {
   "cell_type": "code",
   "execution_count": 6,
   "metadata": {},
   "outputs": [],
   "source": [
    "classes = [\"CONV\", \"HAMMING\", \"PRODUCT\", \"POLAR\", \"BCH\", \"RM\", \"GOLAY\"]"
   ]
  },
  {
   "cell_type": "markdown",
   "metadata": {},
   "source": [
    "# Channel Coding"
   ]
  },
  {
   "cell_type": "code",
   "execution_count": 94,
   "metadata": {},
   "outputs": [],
   "source": [
    "# C(2,1,5) [27,31] (10111, 11001)\n",
    "def CONV(datas, m = None):\n",
    "    m_num = 4\n",
    "    g_func = np.array([[False,True,True,True],[True,False, False,True]])\n",
    "    code_rate = 1/2\n",
    "    \n",
    "    if m is None:\n",
    "        m = np.zeros(m_num)\n",
    "        datas.extend([0 for i in range(m_num)])\n",
    "\n",
    "    result = []\n",
    "    tr_m = np.array(m)\n",
    "\n",
    "    for data in datas:\n",
    "        for j in range(tr_m[g_func[0]].shape[0]):\n",
    "            if j == 0:\n",
    "                result_1 = (tr_m[g_func[0]][j]+data) % 2\n",
    "            else:\n",
    "                result_1 = (tr_m[g_func[0]][j]+result_1) % 2\n",
    "\n",
    "        for j in range(tr_m[g_func[1]].shape[0]):\n",
    "            if j == 0:\n",
    "                result_2 = (tr_m[g_func[1]][j]+data) % 2\n",
    "            else:\n",
    "                result_2 = (tr_m[g_func[1]][j]+result_2) % 2\n",
    "\n",
    "        result.extend([result_1, result_2])\n",
    "\n",
    "        tr_m = np.roll(tr_m, 1)\n",
    "        tr_m[0] = data\n",
    "    \n",
    "    return np.array(result)"
   ]
  },
  {
   "cell_type": "code",
   "execution_count": 95,
   "metadata": {},
   "outputs": [],
   "source": [
    "# Product (8, 4)\n",
    "def Product(msg):\n",
    "    G = np.array([\n",
    "        [1, 0, 1, 0, 0 ,0, 1, 0],\n",
    "        [0, 1 ,1, 0, 0, 0, 0, 1],\n",
    "        [0, 0, 0, 1, 0, 1, 1, 0],\n",
    "        [0, 0, 0, 1, 1, 1, 0, 1]\n",
    "    ], dtype='int')\n",
    "\n",
    "    # msg = np.random.randint(0,2, (data_size, 4))\n",
    "    codeword = np.dot(msg, G) %2\n",
    "\n",
    "    return codeword"
   ]
  },
  {
   "cell_type": "code",
   "execution_count": 96,
   "metadata": {},
   "outputs": [],
   "source": [
    "# Hamming (8, 4)\n",
    "def Hamming(msg):\n",
    "    G = np.array([\n",
    "        [1, 1, 1, 0, 0 ,0, 0, 1],\n",
    "        [1, 0 ,0, 1, 1, 0, 0, 1],\n",
    "        [0, 1, 0, 1, 0, 1, 0, 1],\n",
    "        [1, 1, 0, 1, 0, 0, 1, 0]\n",
    "    ], dtype='int')\n",
    "\n",
    "    # msg = np.random.randint(0,2, (data_size, 4))\n",
    "    codeword = np.dot(msg, G) %2\n",
    "\n",
    "    return codeword"
   ]
  },
  {
   "cell_type": "code",
   "execution_count": 97,
   "metadata": {},
   "outputs": [],
   "source": [
    "# (n, k) Polar code\n",
    "\n",
    "def make_F(power):\n",
    "    F = np.array([[1,0],[1,1]])\n",
    "    for i in range(1,power):\n",
    "        first = np.concatenate((F,np.zeros((2**i, 2**i))), axis=1)\n",
    "        second = np.concatenate((F,F), axis=1)\n",
    "        F = np.concatenate((first, second), axis =0)\n",
    "\n",
    "    return F\n",
    "def Compute_z(z, k, i = 1):\n",
    "    for j in range(i):\n",
    "        z[(2*i,2*j)] = 2*z[(i,j)] - (z[(i,j)])**2\n",
    "        z[(2*i,2*j+1)] = (z[(i,j)])**2\n",
    "    if 2*i < 2**k:\n",
    "        z = Compute_z(z, k, 2*i)\n",
    "\n",
    "    return z\n",
    "\n",
    "def Frozen_bits(n, z, slice_index):\n",
    "    bit_index = np.zeros(n)\n",
    "    for i in range(n):\n",
    "        bit_index[i] = z[(n, i)]\n",
    "\n",
    "    bit_index = np.argsort(bit_index)[::-1]\n",
    "\n",
    "    frozen_bit_index = bit_index[:slice_index]\n",
    "    message_bit_index = bit_index[slice_index:]\n",
    "    \n",
    "    return np.sort(frozen_bit_index), np.sort(message_bit_index)\n",
    "\n",
    "def Polar(msg):\n",
    "    k = 16\n",
    "    n = 2*k\n",
    "    power = int(np.log2(n))\n",
    "\n",
    "    F = make_F(power)\n",
    "\n",
    "    z = {}\n",
    "    z[(1,0)] = 0.5\n",
    "    z = Compute_z(z, power)\n",
    "\n",
    "    frozen_bit_index, message_bit_index = Frozen_bits(n, z, int(n-k))\n",
    "\n",
    "    # msg = np.random.randint(0,2,(k))\n",
    "    \n",
    "    u = np.zeros((n))\n",
    "    u[message_bit_index] = msg\n",
    "\n",
    "    codeword = np.dot(u ,F) %2\n",
    "    codeword_int = codeword.astype(int)\n",
    "    \n",
    "    return codeword_int"
   ]
  },
  {
   "cell_type": "code",
   "execution_count": 98,
   "metadata": {},
   "outputs": [],
   "source": [
    "# BCH code (15, 7)\n",
    "def BCH(msg):\n",
    "    c_length = 15\n",
    "    m_length = 7\n",
    "\n",
    "    # BCH 15,7\n",
    "    # G(x) = x^8+x^7+x^6+x^4+1\n",
    "    G_X_15_7 = [1,1,1,0,1,0,0,0,1]\n",
    "\n",
    "    BCH_15_7_G = np.zeros((7,15))\n",
    "\n",
    "    for i in range(7):\n",
    "        BCH_15_7_G[i,i:i+9] = G_X_15_7\n",
    "\n",
    "    for i in range(7):\n",
    "        for j in range(i+1,7):\n",
    "            if BCH_15_7_G[i, j] == 1:\n",
    "                BCH_15_7_G[i] = (BCH_15_7_G[i] + BCH_15_7_G[j])%2\n",
    "\n",
    "    G = BCH_15_7_G # G =BCH_7_4_G\n",
    "    # msg = np.random.randint(0, 2,(1, msg_length))\n",
    "    codeword = np.dot(msg, G)%2\n",
    "    codeword_int = codeword.astype(int)\n",
    "    \n",
    "    return codeword_int"
   ]
  },
  {
   "cell_type": "code",
   "execution_count": 99,
   "metadata": {},
   "outputs": [],
   "source": [
    "#RM code(16, 11), r=3까지는 가능, 4부터는 안됨\n",
    "\n",
    "def G_matrix(length, m, r):\n",
    "    G = np.ones(length)\n",
    "    for i in range(m):\n",
    "        v = np.zeros((int(length/(2**(i+1)))))\n",
    "        v = np.hstack((v, np.ones((int(length/(2**(i+1)))))))\n",
    "        while v.shape[0] < length :\n",
    "            v = np.hstack((v, np.zeros((int(length/(2**(i+1)))))))\n",
    "            v = np.hstack((v, np.ones((int(length/(2**(i+1)))))))\n",
    "        G = np.vstack((G,v))\n",
    "    if r == 1:\n",
    "        return G\n",
    "    elif r > 1 :\n",
    "        for i in range(1,m):\n",
    "            for j in range(i+1,m+1):\n",
    "                G = np.vstack((G,(G[i]*G[j])))\n",
    "        if r == 3:\n",
    "            G = np.vstack((G,(G[1]*G[2]*G[3])))\n",
    "            G = np.vstack((G,(G[1]*G[3]*G[4])))\n",
    "            G = np.vstack((G,(G[1]*G[2]*G[4])))\n",
    "            G = np.vstack((G,(G[2]*G[3]*G[4])))\n",
    "        return G\n",
    "    return G\n",
    "\n",
    "def RM(msg):\n",
    "    m = 4\n",
    "    r = 2\n",
    "    length = 2**m\n",
    "\n",
    "    if r == 1:\n",
    "        masking_length=0\n",
    "        msg_length = m+r\n",
    "    elif r == 2:\n",
    "        masking_length=6\n",
    "        msg_length = 11\n",
    "    elif r == 3:\n",
    "        masking_length=10\n",
    "        msg_length = 15\n",
    "\n",
    "    G = G_matrix(length, m, r)\n",
    "    # msg = np.random.randint(2,(1,msg_length))\n",
    "    codeword = np.dot(msg, G) %2\n",
    "    codeword_int = codeword.astype(int)\n",
    "    \n",
    "    return codeword_int"
   ]
  },
  {
   "cell_type": "code",
   "execution_count": 100,
   "metadata": {},
   "outputs": [],
   "source": [
    "# (23, 12) Golay code\n",
    "def Golay(msg):\n",
    "    m_len = 12\n",
    "\n",
    "    P = np.array([\n",
    "        [1, 0, 1, 0, 1, 1, 1, 0, 0, 0, 1],\n",
    "        [1, 1, 1, 1, 1, 0, 0, 1, 0, 0, 1],\n",
    "        [1, 1, 0, 1, 0, 0, 1, 0, 1, 0, 1],\n",
    "        [1, 1, 0, 0, 0, 1, 1, 1, 0, 1, 1],\n",
    "        [1, 1, 0, 0, 1, 1, 0, 1, 1, 0, 0],\n",
    "        [0, 1, 1, 0, 0, 1, 1, 0, 1, 1, 0],\n",
    "        [0, 0, 1, 1, 0, 0, 1, 1, 0, 1, 1],\n",
    "        [1, 0, 1, 1, 0, 1, 1, 1, 1, 0, 0],\n",
    "        [0, 1, 0, 1, 1, 0, 1, 1, 1, 1, 0],\n",
    "        [0, 0, 1, 0, 1, 1, 0, 1, 1, 1, 1],\n",
    "        [1, 0, 1, 1, 1, 0, 0, 0, 1, 1, 0],\n",
    "        [0, 1, 0, 1, 1, 1, 0, 0, 0, 1, 1],\n",
    "    ], dtype='int')\n",
    "\n",
    "    G = np.concatenate((np.eye(m_len, dtype=\"int\"), P), axis=1)\n",
    "\n",
    "    # msg = np.random.randint(2, size=(1, m_len))\n",
    "    codeword = np.dot(msg, G) %2\n",
    "    \n",
    "    return codeword"
   ]
  },
  {
   "cell_type": "markdown",
   "metadata": {},
   "source": [
    "# Modulation"
   ]
  },
  {
   "cell_type": "code",
   "execution_count": 40,
   "metadata": {},
   "outputs": [],
   "source": [
    "class Modulation():\n",
    "    def __init__(self, case):\n",
    "        if case == 1:\n",
    "            self.M = 1\n",
    "            self.padding_len = 0\n",
    "\n",
    "    def mod(self, data):\n",
    "        if len(data)%self.M != 0:\n",
    "            data = self.padding(data)\n",
    "\n",
    "        self.data_len = int(len(data)/self.M)\n",
    "\n",
    "        if self.M == 1:\n",
    "            return self.BPSK_modulation(data)\n",
    "\n",
    "    def demod(self, data):\n",
    "        self.M = 1\n",
    "        if self.M == 1:\n",
    "            return self.BPSK_demodulation(data)\n",
    "\n",
    "\n",
    "    def padding(self, data):\n",
    "        self.padding_len = int(self.M-len(data)%self.M)\n",
    "        paddinng_data = np.concatenate((data, np.zeros(self.padding_len)))\n",
    "        return paddinng_data\n",
    "    \n",
    "    def toInt(self, data):\n",
    "        power_list = [2**i for i in range(self.M)][::-1]\n",
    "        int_data = np.zeros((self.data_len), dtype=int)\n",
    "        for i in range(self.data_len):\n",
    "            int_data[i] += int(np.dot(power_list,data[self.M*i:self.M*i+self.M]))\n",
    "\n",
    "        return int_data\n",
    "    \n",
    "    def BPSK_modulation(self, data):\n",
    "        bpsk_data = np.zeros((self.data_len), dtype=complex)\n",
    "        for i in range(self.data_len):\n",
    "            bpsk_data[i] = (-1)**data[i]\n",
    "\n",
    "        return bpsk_data\n",
    "\n",
    "\n",
    "    def BPSK_demodulation(self, data):\n",
    "        demod_data = np.zeros((self.data_len))\n",
    "        for i in range(self.data_len):\n",
    "            if data[i] > 0:\n",
    "                demod_data[i] = 0\n",
    "            else:\n",
    "                demod_data[i] = 1\n",
    "\n",
    "        return demod_data\n"
   ]
  },
  {
   "cell_type": "markdown",
   "metadata": {},
   "source": [
    "# Channel Noise"
   ]
  },
  {
   "cell_type": "code",
   "execution_count": 15,
   "metadata": {},
   "outputs": [],
   "source": [
    "def AWGN(dB, code_rate, data):\n",
    "    dB = 10**(dB/10)\n",
    "    sigma = np.sqrt(1/(2*code_rate*dB))\n",
    "    noise_i = sigma * np.random.randn(len(data))\n",
    "    noise_q = sigma * np.random.randn(len(data))\n",
    "\n",
    "    noise_data = data + noise_i + 1j * noise_q\n",
    "\n",
    "    return noise_data"
   ]
  },
  {
   "cell_type": "markdown",
   "metadata": {},
   "source": [
    "# Create Dataset"
   ]
  },
  {
   "cell_type": "markdown",
   "metadata": {},
   "source": [
    "## Def"
   ]
  },
  {
   "cell_type": "code",
   "execution_count": 77,
   "metadata": {},
   "outputs": [],
   "source": [
    "# classes = [\"CONV\", \"HAMMING\", \"PRODUCT\", \"POLAR\", \"BCH\", \"RM\", \"GOLAY\"]\n",
    "def create_encoded(code_len, code_num):\n",
    "    encoded = []\n",
    "    code_rate = 0.5\n",
    "    \n",
    "    if code_num == 0: # CONV\n",
    "        data_len = code_len // 2 - 4\n",
    "        random_bits = np.random.randint(0, 2, size=(data_len))\n",
    "        encoded = CONV(list(random_bits))\n",
    "        \n",
    "    elif code_num == 1: # HAMM\n",
    "        data_len = 4\n",
    "        num_blocks = code_len // data_len\n",
    "        for i in range(num_blocks):\n",
    "            random_bits = np.random.randint(0, 2, size=data_len)\n",
    "            encoded_block = Hamming(random_bits) \n",
    "            encoded.extend(encoded_block)\n",
    "\n",
    "        encoded = encoded[:code_len]\n",
    "               \n",
    "    elif code_num == 2: # PRODUCT\n",
    "        data_len = 4\n",
    "        num_blocks = code_len // data_len\n",
    "        for i in range(num_blocks):\n",
    "            random_bits = np.random.randint(0, 2, size=data_len)\n",
    "            encoded_block = Product(random_bits) \n",
    "            encoded.extend(encoded_block)\n",
    "\n",
    "        encoded = encoded[:code_len] \n",
    "              \n",
    "    elif code_num == 3: # POLAR\n",
    "        data_len = code_len // 2\n",
    "        random_bits = np.random.randint(0, 2, size=(data_len))\n",
    "        encoded = Polar(random_bits)\n",
    "        \n",
    "    elif code_num == 4: # BCH(15, 7)\n",
    "        data_len = 7\n",
    "        num_blocks = code_len // data_len\n",
    "        for i in range(num_blocks):\n",
    "            random_bits = np.random.randint(0, 2, size=data_len)\n",
    "            encoded_block = BCH(random_bits) \n",
    "            encoded.extend(encoded_block)\n",
    "\n",
    "        encoded = encoded[:code_len] \n",
    "        \n",
    "    elif code_num == 5: # RM(16, 11)\n",
    "        data_len = 11\n",
    "        num_blocks = code_len // data_len\n",
    "        for i in range(num_blocks):\n",
    "            random_bits = np.random.randint(0, 2, size=data_len)\n",
    "            encoded_block = RM(random_bits) \n",
    "            encoded.extend(encoded_block)\n",
    "\n",
    "        encoded = encoded[:code_len] \n",
    "        code_rate = 11/16\n",
    "        \n",
    "    elif code_num == 6: # GOLAY(23, 12)\n",
    "        data_len = 12\n",
    "        num_blocks = code_len // data_len\n",
    "        for i in range(num_blocks):\n",
    "            random_bits = np.random.randint(0, 2, size=data_len)\n",
    "            encoded_block = Golay(random_bits) \n",
    "            encoded.extend(encoded_block)\n",
    "\n",
    "        encoded = encoded[:code_len] \n",
    "        code_rate = 12/23\n",
    "        \n",
    "    return encoded, code_rate"
   ]
  },
  {
   "cell_type": "markdown",
   "metadata": {},
   "source": [
    "## Use"
   ]
  },
  {
   "cell_type": "code",
   "execution_count": 101,
   "metadata": {},
   "outputs": [],
   "source": [
    "# 데이터와 레이블을 저장할 리스트 초기화\n",
    "demoded_list = []\n",
    "\n",
    "data_list = []\n",
    "label_list = []"
   ]
  },
  {
   "cell_type": "code",
   "execution_count": 103,
   "metadata": {},
   "outputs": [
    {
     "name": "stdout",
     "output_type": "stream",
     "text": [
      "END\n"
     ]
    }
   ],
   "source": [
    "dataset_size = 32\n",
    "\n",
    "bpsk = Modulation(1)\n",
    "\n",
    "for snr in SNR:\n",
    "    for i in range(num_samples):\n",
    "        for code in range(len(classes)):\n",
    "            demoded_list.clear()  # Clear the list for each new sample\n",
    "            \n",
    "            for j in range(dataset_size):\n",
    "                encoded, code_rate = create_encoded(dataset_size, code) \n",
    "                \n",
    "                moded = bpsk.mod(encoded)\n",
    "                \n",
    "                noise_data = AWGN(int(snr), code_rate, moded)\n",
    "                \n",
    "                demoded = bpsk.demod(noise_data)  # shape = (1, 32)\n",
    "                \n",
    "                demoded_list.append(demoded) \n",
    "            \n",
    "            sample = np.vstack(demoded_list)  # shape = (32, 32)\n",
    "            \n",
    "            data_list.append(sample)\n",
    "            label_list.append((classes[code], snr))\n",
    "\n",
    "print(\"END\")"
   ]
  },
  {
   "cell_type": "code",
   "execution_count": 105,
   "metadata": {},
   "outputs": [],
   "source": [
    "# 데이터를 넘파이 배열로 변환\n",
    "data_array = np.array(data_list)\n",
    "label_array = np.array(label_list)"
   ]
  },
  {
   "cell_type": "code",
   "execution_count": 120,
   "metadata": {},
   "outputs": [
    {
     "name": "stdout",
     "output_type": "stream",
     "text": [
      "(91000, 32, 32)\n",
      "(91000, 2)\n",
      "[['CONV' '-4']\n",
      " ['CONV' '6']\n",
      " ['CONV' '17']]\n"
     ]
    }
   ],
   "source": [
    "print(data_array.shape)\n",
    "print(label_array.shape)\n",
    "print(label_array[:3])"
   ]
  },
  {
   "cell_type": "code",
   "execution_count": 106,
   "metadata": {},
   "outputs": [],
   "source": [
    "# 데이터 셔플링\n",
    "np.random.seed(42)\n",
    "indices = np.arange(data_array.shape[0])\n",
    "np.random.shuffle(indices)\n",
    "\n",
    "data_array = data_array[indices]\n",
    "label_array = label_array[indices]"
   ]
  },
  {
   "cell_type": "code",
   "execution_count": 107,
   "metadata": {},
   "outputs": [],
   "source": [
    "# 훈련, 테스트, 검증 데이터 분할 (80% 훈련, 10% 테스트, 10% 검증)\n",
    "n_examples = data_array.shape[0]\n",
    "n_train = int(0.8 * n_examples)\n",
    "n_test = int(0.1 * n_examples)\n",
    "n_val = n_examples - n_train - n_test\n",
    "\n",
    "# idx\n",
    "train_idx = indices[:n_train]\n",
    "test_idx = indices[n_train:n_train + n_test]\n",
    "val_idx = indices[n_train + n_test:]\n",
    "\n",
    "# X\n",
    "X_train = data_array[train_idx]\n",
    "X_test = data_array[test_idx]\n",
    "X_val = data_array[val_idx]\n",
    "\n",
    "# Y\n",
    "Y_train = label_array[train_idx]\n",
    "Y_test = label_array[test_idx]\n",
    "Y_val = label_array[val_idx]\n"
   ]
  },
  {
   "cell_type": "code",
   "execution_count": 121,
   "metadata": {},
   "outputs": [
    {
     "ename": "KeyError",
     "evalue": "'C'",
     "output_type": "error",
     "traceback": [
      "\u001b[1;31m---------------------------------------------------------------------------\u001b[0m",
      "\u001b[1;31mKeyError\u001b[0m                                  Traceback (most recent call last)",
      "Cell \u001b[1;32mIn[121], line 20\u001b[0m\n\u001b[0;32m     18\u001b[0m \u001b[38;5;66;03m# 각 데이터셋에 대해 원-핫 인코딩 수행\u001b[39;00m\n\u001b[0;32m     19\u001b[0m labels \u001b[38;5;241m=\u001b[39m np\u001b[38;5;241m.\u001b[39marray(label_array)\n\u001b[1;32m---> 20\u001b[0m Y_onehot \u001b[38;5;241m=\u001b[39m \u001b[43mto_onehot\u001b[49m\u001b[43m(\u001b[49m\u001b[43mlabels\u001b[49m\u001b[43m[\u001b[49m\u001b[43m:\u001b[49m\u001b[43m,\u001b[49m\u001b[43m \u001b[49m\u001b[38;5;241;43m0\u001b[39;49m\u001b[43m]\u001b[49m\u001b[43m,\u001b[49m\u001b[43m \u001b[49m\u001b[43mlabel_to_idx\u001b[49m\u001b[43m)\u001b[49m\n\u001b[0;32m     22\u001b[0m \u001b[38;5;28mprint\u001b[39m(\u001b[38;5;124m\"\u001b[39m\u001b[38;5;124mLabel to Index Mapping:\u001b[39m\u001b[38;5;124m\"\u001b[39m, label_to_idx)\n\u001b[0;32m     23\u001b[0m \u001b[38;5;28mprint\u001b[39m(\u001b[38;5;124m\"\u001b[39m\u001b[38;5;124mY One-Hot Encoded:\u001b[39m\u001b[38;5;130;01m\\n\u001b[39;00m\u001b[38;5;124m\"\u001b[39m, Y_onehot)\n",
      "Cell \u001b[1;32mIn[121], line 10\u001b[0m, in \u001b[0;36mto_onehot\u001b[1;34m(labels, label_to_idx)\u001b[0m\n\u001b[0;32m      8\u001b[0m onehot_labels \u001b[38;5;241m=\u001b[39m np\u001b[38;5;241m.\u001b[39mzeros((\u001b[38;5;28mlen\u001b[39m(labels), num_classes))\n\u001b[0;32m      9\u001b[0m \u001b[38;5;28;01mfor\u001b[39;00m i, label \u001b[38;5;129;01min\u001b[39;00m \u001b[38;5;28menumerate\u001b[39m(labels):\n\u001b[1;32m---> 10\u001b[0m     idx \u001b[38;5;241m=\u001b[39m \u001b[43mlabel_to_idx\u001b[49m\u001b[43m[\u001b[49m\u001b[43mlabel\u001b[49m\u001b[43m[\u001b[49m\u001b[38;5;241;43m0\u001b[39;49m\u001b[43m]\u001b[49m\u001b[43m]\u001b[49m  \u001b[38;5;66;03m# 첫 번째 요소만을 사용하여 매핑\u001b[39;00m\n\u001b[0;32m     11\u001b[0m     onehot_labels[i, idx] \u001b[38;5;241m=\u001b[39m \u001b[38;5;241m1\u001b[39m\n\u001b[0;32m     12\u001b[0m \u001b[38;5;28;01mreturn\u001b[39;00m onehot_labels\n",
      "\u001b[1;31mKeyError\u001b[0m: 'C'"
     ]
    }
   ],
   "source": [
    "# 원-핫 인코딩 함수\n",
    "def to_onehot(labels, num_classes):\n",
    "    onehot_labels = np.zeros((labels.shape[0], num_classes))\n",
    "    for i, label in enumerate(labels):\n",
    "        onehot_labels[i, label] = 1\n",
    "    return onehot_labels\n",
    "\n",
    "# 레이블의 첫 번째 열(CL)을 원-핫 인코딩=\n",
    "num_classes = len(set(label_array[:, 0]))  # 실제 클래스 수 계산\n",
    "Y_train_onehot = to_onehot(Y_train[:, 0], num_classes)\n",
    "Y_test_onehot = to_onehot(Y_test[:, 0], num_classes)\n",
    "Y_val_onehot = to_onehot(Y_val[:, 0], num_classes)\n"
   ]
  },
  {
   "cell_type": "code",
   "execution_count": 111,
   "metadata": {},
   "outputs": [
    {
     "name": "stdout",
     "output_type": "stream",
     "text": [
      "데이터 생성 완료\n"
     ]
    }
   ],
   "source": [
    "# npy 파일로 저장\n",
    "np.save(os.path.join(dest, \"x_train.npy\"), X_train)\n",
    "np.save(os.path.join(dest, \"x_test.npy\"), X_test)\n",
    "np.save(os.path.join(dest, \"x_val.npy\"), X_val)\n",
    "\n",
    "np.save(os.path.join(dest, \"y_train.npy\"), Y_train_onehot)\n",
    "np.save(os.path.join(dest, \"y_test.npy\"), Y_test_onehot)\n",
    "np.save(os.path.join(dest, \"y_val.npy\"), Y_val_onehot)\n",
    "\n",
    "np.save(os.path.join(dest, \"lbl.npy\"), label_array)\n",
    "\n",
    "# idx도 저장\n",
    "np.save(os.path.join(dest, \"train_idx.npy\"), train_idx)\n",
    "np.save(os.path.join(dest, \"test_idx.npy\"), test_idx)\n",
    "np.save(os.path.join(dest, \"val_idx.npy\"), val_idx)\n",
    "\n",
    "print(\"데이터 생성 완료\")"
   ]
  },
  {
   "cell_type": "code",
   "execution_count": 115,
   "metadata": {},
   "outputs": [
    {
     "name": "stdout",
     "output_type": "stream",
     "text": [
      "[['CONV' '-4']\n",
      " ['CONV' '6']\n",
      " ['CONV' '17']\n",
      " ...\n",
      " ['POLAR' '8']\n",
      " ['HAMMING' '20']\n",
      " ['HAMMING' '16']]\n"
     ]
    }
   ],
   "source": [
    "train = np.load(os.path.join(dest, \"lbl.npy\"))\n",
    "print(train)"
   ]
  }
 ],
 "metadata": {
  "kernelspec": {
   "display_name": "pytorch",
   "language": "python",
   "name": "python3"
  },
  "language_info": {
   "codemirror_mode": {
    "name": "ipython",
    "version": 3
   },
   "file_extension": ".py",
   "mimetype": "text/x-python",
   "name": "python",
   "nbconvert_exporter": "python",
   "pygments_lexer": "ipython3",
   "version": "3.9.18"
  }
 },
 "nbformat": 4,
 "nbformat_minor": 2
}
