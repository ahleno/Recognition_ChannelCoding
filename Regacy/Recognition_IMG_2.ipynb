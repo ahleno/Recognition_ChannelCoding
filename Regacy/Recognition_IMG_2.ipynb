{
 "cells": [
  {
   "cell_type": "code",
   "execution_count": 1,
   "metadata": {},
   "outputs": [],
   "source": [
    "import scipy\n",
    "from scipy.io import loadmat\n",
    "from pandas import factorize\n",
    "import os\n",
    "import numpy as np\n",
    "import random\n",
    "\n",
    "from matplotlib import pyplot as plt\n",
    "from sklearn.metrics import confusion_matrix\n",
    "\n",
    "from tensorflow.keras.utils import to_categorical\n",
    "from sklearn.model_selection import train_test_split\n",
    "import tensorflow as tf\n",
    "from tensorflow import keras\n",
    "from tensorflow.keras import backend as K\n",
    "from tensorflow.keras import layers\n",
    "from tensorflow.keras.utils import plot_model"
   ]
  },
  {
   "cell_type": "code",
   "execution_count": 2,
   "metadata": {},
   "outputs": [],
   "source": [
    "import os\n",
    "import scipy.io\n",
    "import numpy as np\n",
    "\n",
    "def load_dataset(data, snr_range):\n",
    "    \"\"\"\n",
    "    This function loads and processes a dataset represented as a dictionary with keys as tuples of channel codes and SNR values.\n",
    "\n",
    "    Parameters:\n",
    "    - data: A dictionary where keys are tuples representing channel codes and SNR values, and values are corresponding data arrays.\n",
    "    - snr_range: A tuple specifying the range of SNR values to consider.\n",
    "\n",
    "    Returns:\n",
    "    A tuple containing:\n",
    "    - snrs: List of sorted SNR values within the specified range.\n",
    "    - X: Stacked data arrays corresponding to each channel code and SNR.\n",
    "    - ch_codes: List of sorted channel codes.\n",
    "    - one_hot_encode: One-hot encoded representation of channel codes.\n",
    "    - lbl_SNR: Array of SNR values corresponding to each data vector.\n",
    "    \"\"\"\n",
    "\n",
    "    # Sort by converting each ndarray element to a set\n",
    "    ch_codes = sorted(set([key[0] for key in data.keys()]))\n",
    "    snrs = sorted(set([key[1] for key in data.keys() if snr_range[0] <= key[1] <= snr_range[1]]))\n",
    "\n",
    "\n",
    "    X = []; lbl = []\n",
    "\n",
    "    for ch_code in ch_codes:\n",
    "        for snr in snrs:\n",
    "            X.append(data[(ch_code, snr)])\n",
    "            for i in range(data[(ch_code, snr)].shape[0]):\n",
    "                lbl.append((ch_code, snr))\n",
    "\n",
    "    X = np.vstack(X); lbl=np.vstack(lbl)\n",
    "\n",
    "    print(X.shape)\n",
    "\n",
    "    # One-hot-encoding\n",
    "    Y = []\n",
    "    for i in range(len(lbl)):\n",
    "        ch_code = (lbl[i, 0])\n",
    "        Y.append(ch_code)\n",
    "\n",
    "    mapping = {}\n",
    "    for x in range(len(ch_codes)):\n",
    "        mapping[ch_codes[x]] = x\n",
    "\n",
    "    ## integer representation\n",
    "    for x in range(len(Y)):\n",
    "        Y[x] = mapping[Y[x]]\n",
    "\n",
    "    one_hot_encode = to_categorical(Y)\n",
    "\n",
    "    # Assign SNR value to each vector\n",
    "    repeat_n = X.shape[0]/len(ch_codes)/len(snrs)\n",
    "    repeat_n_ch_code = len(ch_codes)\n",
    "    lbl_SNR = np.tile(np.repeat(snrs, repeat_n), repeat_n_ch_code)\n",
    "\n",
    "    return snrs, X, ch_codes, one_hot_encode, lbl_SNR"
   ]
  },
  {
   "cell_type": "code",
   "execution_count": 3,
   "metadata": {},
   "outputs": [],
   "source": [
    "def train_test_valid_split(X, one_hot, train_split=0.8, valid_split=0.1, test_split=0.1):\n",
    "\n",
    "    \"\"\"\n",
    "    Train-Test-Valid split the data\n",
    "\n",
    "    Input:\n",
    "        X: X data\n",
    "        one_hot: Y data encoded to one_hot\n",
    "        train_split (default 0.8)\n",
    "        valid_split (default 0.1)\n",
    "        test_split (default 0.1)\n",
    "        train_split : valid_split : test_split - ratio for splitting the dataset\n",
    "\n",
    "        NOTE: the ratio split must be a sum of 1!\n",
    "\n",
    "    Output:\n",
    "        train_idx: indexes from X assinged to train data\n",
    "        valid_idx: indexes from X assinged to validation data\n",
    "        test_idx: indexes from X assinged to test data\n",
    "        X_train: X data assigned for training\n",
    "        X_valid: X data assigned for validation\n",
    "        X_test: X data assigned for testing\n",
    "        Y_train: one-hot encoded Y data assigned for training\n",
    "        Y_valid: one-hot encoded Y data assigned for validation\n",
    "        Y_test: one-hot encoded Y data assigned for testing\n",
    "    \"\"\"\n",
    "\n",
    "    # Set random seed\n",
    "    np.random.seed(42)\n",
    "    random.seed(42)\n",
    "\n",
    "    # Get the number of samples\n",
    "    n_examples = X.shape[0]\n",
    "    n_train = int(n_examples * train_split)\n",
    "    n_valid = int(n_examples * valid_split)\n",
    "    n_test = int(n_examples * test_split)\n",
    "\n",
    "    # Get indexes of train data\n",
    "    train_idx = np.random.choice(range(0, n_examples), size=n_train, replace=False)\n",
    "\n",
    "    # Left indexes for valid and test sets\n",
    "    left_idx= list(set(range(0, n_examples)) - set(train_idx))\n",
    "\n",
    "    # Get indexes for the left indexes of the X data\n",
    "    val = np.random.choice(range(0, (n_valid+n_test)), size=(n_valid), replace=False)\n",
    "    test = list(set(range(0, len(left_idx))) - set(val))\n",
    "\n",
    "    # Assign indeces for validation to left indexes\n",
    "    valid_idx = []\n",
    "    for i in val:\n",
    "        val_idx = left_idx[i]\n",
    "        valid_idx.append(val_idx)\n",
    "\n",
    "    # Get the test set as the rest indexes\n",
    "    test_idx = []\n",
    "    for i in test:\n",
    "        tst_idx = left_idx[i]\n",
    "        test_idx.append(tst_idx)\n",
    "\n",
    "    # Shuffle the valid_idx and test_idx\n",
    "    random.shuffle(valid_idx)\n",
    "    random.shuffle(test_idx)\n",
    "\n",
    "    # Assing the indexes to the X and Y data to create train and test sets\n",
    "    X_train = X[train_idx]\n",
    "    X_valid = X[valid_idx]\n",
    "    X_test = X[test_idx]\n",
    "    Y_train = one_hot[train_idx]\n",
    "    Y_valid = one_hot[valid_idx]\n",
    "    Y_test = one_hot[test_idx]\n",
    "\n",
    "    return train_idx, valid_idx, test_idx, X_train, X_valid, X_test, Y_train, Y_valid, Y_test"
   ]
  },
  {
   "cell_type": "code",
   "execution_count": 4,
   "metadata": {},
   "outputs": [],
   "source": [
    "CH_CODE = [\"CONV_5_7\", \"CONV_13_17\", \"CONV_23_35\"]\n",
    "classes = CH_CODE"
   ]
  },
  {
   "cell_type": "code",
   "execution_count": 5,
   "metadata": {},
   "outputs": [
    {
     "name": "stderr",
     "output_type": "stream",
     "text": [
      "Loading Files:   0%|          | 0/41 [00:00<?, ?it/s]"
     ]
    },
    {
     "name": "stdout",
     "output_type": "stream",
     "text": [
      "Now load SNR: -20\n"
     ]
    },
    {
     "name": "stderr",
     "output_type": "stream",
     "text": [
      "Loading Files:   2%|▏         | 1/41 [00:01<01:06,  1.65s/it] "
     ]
    },
    {
     "name": "stdout",
     "output_type": "stream",
     "text": [
      "Now load SNR: -19\n"
     ]
    },
    {
     "name": "stderr",
     "output_type": "stream",
     "text": [
      "Loading Files:   5%|▍         | 2/41 [00:03<01:02,  1.61s/it] "
     ]
    },
    {
     "name": "stdout",
     "output_type": "stream",
     "text": [
      "Now load SNR: -18\n"
     ]
    },
    {
     "name": "stderr",
     "output_type": "stream",
     "text": [
      "Loading Files:   7%|▋         | 3/41 [00:05<01:04,  1.69s/it] "
     ]
    },
    {
     "name": "stdout",
     "output_type": "stream",
     "text": [
      "Now load SNR: -17\n"
     ]
    },
    {
     "name": "stderr",
     "output_type": "stream",
     "text": [
      "Loading Files:  10%|▉         | 4/41 [00:06<01:01,  1.66s/it] "
     ]
    },
    {
     "name": "stdout",
     "output_type": "stream",
     "text": [
      "Now load SNR: -16\n"
     ]
    },
    {
     "name": "stderr",
     "output_type": "stream",
     "text": [
      "Loading Files:  12%|█▏        | 5/41 [00:08<00:59,  1.66s/it] "
     ]
    },
    {
     "name": "stdout",
     "output_type": "stream",
     "text": [
      "Now load SNR: -15\n"
     ]
    },
    {
     "name": "stderr",
     "output_type": "stream",
     "text": [
      "Loading Files:  15%|█▍        | 6/41 [00:09<00:57,  1.65s/it] "
     ]
    },
    {
     "name": "stdout",
     "output_type": "stream",
     "text": [
      "Now load SNR: -14\n"
     ]
    },
    {
     "name": "stderr",
     "output_type": "stream",
     "text": [
      "Loading Files:  17%|█▋        | 7/41 [00:11<00:55,  1.64s/it] "
     ]
    },
    {
     "name": "stdout",
     "output_type": "stream",
     "text": [
      "Now load SNR: -13\n"
     ]
    },
    {
     "name": "stderr",
     "output_type": "stream",
     "text": [
      "Loading Files:  20%|█▉        | 8/41 [00:13<00:54,  1.64s/it] "
     ]
    },
    {
     "name": "stdout",
     "output_type": "stream",
     "text": [
      "Now load SNR: -12\n"
     ]
    },
    {
     "name": "stderr",
     "output_type": "stream",
     "text": [
      "Loading Files:  22%|██▏       | 9/41 [00:14<00:52,  1.63s/it] "
     ]
    },
    {
     "name": "stdout",
     "output_type": "stream",
     "text": [
      "Now load SNR: -11\n"
     ]
    },
    {
     "name": "stderr",
     "output_type": "stream",
     "text": [
      "Loading Files:  24%|██▍       | 10/41 [00:16<00:50,  1.63s/it]"
     ]
    },
    {
     "name": "stdout",
     "output_type": "stream",
     "text": [
      "Now load SNR: -10\n"
     ]
    },
    {
     "name": "stderr",
     "output_type": "stream",
     "text": [
      "Loading Files:  27%|██▋       | 11/41 [00:18<00:49,  1.63s/it]"
     ]
    },
    {
     "name": "stdout",
     "output_type": "stream",
     "text": [
      "Now load SNR: -9\n"
     ]
    },
    {
     "name": "stderr",
     "output_type": "stream",
     "text": [
      "Loading Files:  29%|██▉       | 12/41 [00:19<00:47,  1.62s/it]"
     ]
    },
    {
     "name": "stdout",
     "output_type": "stream",
     "text": [
      "Now load SNR: -8\n"
     ]
    },
    {
     "name": "stderr",
     "output_type": "stream",
     "text": [
      "Loading Files:  32%|███▏      | 13/41 [00:21<00:45,  1.63s/it]"
     ]
    },
    {
     "name": "stdout",
     "output_type": "stream",
     "text": [
      "Now load SNR: -7\n"
     ]
    },
    {
     "name": "stderr",
     "output_type": "stream",
     "text": [
      "Loading Files:  34%|███▍      | 14/41 [00:22<00:43,  1.62s/it]"
     ]
    },
    {
     "name": "stdout",
     "output_type": "stream",
     "text": [
      "Now load SNR: -6\n"
     ]
    },
    {
     "name": "stderr",
     "output_type": "stream",
     "text": [
      "Loading Files:  37%|███▋      | 15/41 [00:24<00:41,  1.61s/it]"
     ]
    },
    {
     "name": "stdout",
     "output_type": "stream",
     "text": [
      "Now load SNR: -5\n"
     ]
    },
    {
     "name": "stderr",
     "output_type": "stream",
     "text": [
      "Loading Files:  39%|███▉      | 16/41 [00:26<00:39,  1.60s/it]"
     ]
    },
    {
     "name": "stdout",
     "output_type": "stream",
     "text": [
      "Now load SNR: -4\n"
     ]
    },
    {
     "name": "stderr",
     "output_type": "stream",
     "text": [
      "Loading Files:  41%|████▏     | 17/41 [00:27<00:38,  1.60s/it]"
     ]
    },
    {
     "name": "stdout",
     "output_type": "stream",
     "text": [
      "Now load SNR: -3\n"
     ]
    },
    {
     "name": "stderr",
     "output_type": "stream",
     "text": [
      "Loading Files:  44%|████▍     | 18/41 [00:29<00:36,  1.59s/it]"
     ]
    },
    {
     "name": "stdout",
     "output_type": "stream",
     "text": [
      "Now load SNR: -2\n"
     ]
    },
    {
     "name": "stderr",
     "output_type": "stream",
     "text": [
      "Loading Files:  46%|████▋     | 19/41 [00:30<00:35,  1.61s/it]"
     ]
    },
    {
     "name": "stdout",
     "output_type": "stream",
     "text": [
      "Now load SNR: -1\n"
     ]
    },
    {
     "name": "stderr",
     "output_type": "stream",
     "text": [
      "Loading Files:  49%|████▉     | 20/41 [00:32<00:33,  1.60s/it]"
     ]
    },
    {
     "name": "stdout",
     "output_type": "stream",
     "text": [
      "Now load SNR: 0\n"
     ]
    },
    {
     "name": "stderr",
     "output_type": "stream",
     "text": [
      "Loading Files:  51%|█████     | 21/41 [00:34<00:31,  1.60s/it]"
     ]
    },
    {
     "name": "stdout",
     "output_type": "stream",
     "text": [
      "Now load SNR: 1\n"
     ]
    },
    {
     "name": "stderr",
     "output_type": "stream",
     "text": [
      "Loading Files:  54%|█████▎    | 22/41 [00:35<00:30,  1.60s/it]"
     ]
    },
    {
     "name": "stdout",
     "output_type": "stream",
     "text": [
      "Now load SNR: 2\n"
     ]
    },
    {
     "name": "stderr",
     "output_type": "stream",
     "text": [
      "Loading Files:  56%|█████▌    | 23/41 [00:37<00:28,  1.61s/it]"
     ]
    },
    {
     "name": "stdout",
     "output_type": "stream",
     "text": [
      "Now load SNR: 3\n"
     ]
    },
    {
     "name": "stderr",
     "output_type": "stream",
     "text": [
      "Loading Files:  59%|█████▊    | 24/41 [00:38<00:27,  1.61s/it]"
     ]
    },
    {
     "name": "stdout",
     "output_type": "stream",
     "text": [
      "Now load SNR: 4\n"
     ]
    },
    {
     "name": "stderr",
     "output_type": "stream",
     "text": [
      "Loading Files:  61%|██████    | 25/41 [00:40<00:25,  1.61s/it]"
     ]
    },
    {
     "name": "stdout",
     "output_type": "stream",
     "text": [
      "Now load SNR: 5\n"
     ]
    },
    {
     "name": "stderr",
     "output_type": "stream",
     "text": [
      "Loading Files:  63%|██████▎   | 26/41 [00:42<00:23,  1.60s/it]"
     ]
    },
    {
     "name": "stdout",
     "output_type": "stream",
     "text": [
      "Now load SNR: 6\n"
     ]
    },
    {
     "name": "stderr",
     "output_type": "stream",
     "text": [
      "Loading Files:  66%|██████▌   | 27/41 [00:43<00:22,  1.59s/it]"
     ]
    },
    {
     "name": "stdout",
     "output_type": "stream",
     "text": [
      "Now load SNR: 7\n"
     ]
    },
    {
     "name": "stderr",
     "output_type": "stream",
     "text": [
      "Loading Files:  68%|██████▊   | 28/41 [00:45<00:20,  1.58s/it]"
     ]
    },
    {
     "name": "stdout",
     "output_type": "stream",
     "text": [
      "Now load SNR: 8\n"
     ]
    },
    {
     "name": "stderr",
     "output_type": "stream",
     "text": [
      "Loading Files:  71%|███████   | 29/41 [00:46<00:18,  1.58s/it]"
     ]
    },
    {
     "name": "stdout",
     "output_type": "stream",
     "text": [
      "Now load SNR: 9\n"
     ]
    },
    {
     "name": "stderr",
     "output_type": "stream",
     "text": [
      "Loading Files:  73%|███████▎  | 30/41 [00:48<00:17,  1.59s/it]"
     ]
    },
    {
     "name": "stdout",
     "output_type": "stream",
     "text": [
      "Now load SNR: 10\n"
     ]
    },
    {
     "name": "stderr",
     "output_type": "stream",
     "text": [
      "Loading Files:  76%|███████▌  | 31/41 [00:50<00:15,  1.60s/it]"
     ]
    },
    {
     "name": "stdout",
     "output_type": "stream",
     "text": [
      "Now load SNR: 11\n"
     ]
    },
    {
     "name": "stderr",
     "output_type": "stream",
     "text": [
      "Loading Files:  78%|███████▊  | 32/41 [00:51<00:14,  1.60s/it]"
     ]
    },
    {
     "name": "stdout",
     "output_type": "stream",
     "text": [
      "Now load SNR: 12\n"
     ]
    },
    {
     "name": "stderr",
     "output_type": "stream",
     "text": [
      "Loading Files:  80%|████████  | 33/41 [00:53<00:12,  1.60s/it]"
     ]
    },
    {
     "name": "stdout",
     "output_type": "stream",
     "text": [
      "Now load SNR: 13\n"
     ]
    },
    {
     "name": "stderr",
     "output_type": "stream",
     "text": [
      "Loading Files:  83%|████████▎ | 34/41 [00:54<00:11,  1.59s/it]"
     ]
    },
    {
     "name": "stdout",
     "output_type": "stream",
     "text": [
      "Now load SNR: 14\n"
     ]
    },
    {
     "name": "stderr",
     "output_type": "stream",
     "text": [
      "Loading Files:  85%|████████▌ | 35/41 [00:56<00:09,  1.59s/it]"
     ]
    },
    {
     "name": "stdout",
     "output_type": "stream",
     "text": [
      "Now load SNR: 15\n"
     ]
    },
    {
     "name": "stderr",
     "output_type": "stream",
     "text": [
      "Loading Files:  88%|████████▊ | 36/41 [00:57<00:07,  1.59s/it]"
     ]
    },
    {
     "name": "stdout",
     "output_type": "stream",
     "text": [
      "Now load SNR: 16\n"
     ]
    },
    {
     "name": "stderr",
     "output_type": "stream",
     "text": [
      "Loading Files:  90%|█████████ | 37/41 [00:59<00:06,  1.59s/it]"
     ]
    },
    {
     "name": "stdout",
     "output_type": "stream",
     "text": [
      "Now load SNR: 17\n"
     ]
    },
    {
     "name": "stderr",
     "output_type": "stream",
     "text": [
      "Loading Files:  93%|█████████▎| 38/41 [01:01<00:04,  1.59s/it]"
     ]
    },
    {
     "name": "stdout",
     "output_type": "stream",
     "text": [
      "Now load SNR: 18\n"
     ]
    },
    {
     "name": "stderr",
     "output_type": "stream",
     "text": [
      "Loading Files:  95%|█████████▌| 39/41 [01:02<00:03,  1.59s/it]"
     ]
    },
    {
     "name": "stdout",
     "output_type": "stream",
     "text": [
      "Now load SNR: 19\n"
     ]
    },
    {
     "name": "stderr",
     "output_type": "stream",
     "text": [
      "Loading Files:  98%|█████████▊| 40/41 [01:04<00:01,  1.58s/it]"
     ]
    },
    {
     "name": "stdout",
     "output_type": "stream",
     "text": [
      "Now load SNR: 20\n"
     ]
    },
    {
     "name": "stderr",
     "output_type": "stream",
     "text": [
      "Loading Files: 100%|██████████| 41/41 [01:05<00:00,  1.61s/it]\n"
     ]
    }
   ],
   "source": [
    "import os\n",
    "import re\n",
    "from tqdm import tqdm\n",
    "from PIL import Image\n",
    "import numpy as np\n",
    "import gc\n",
    "\n",
    "# SNR 범위 \n",
    "snr = range(-20, 21, 1)\n",
    "\n",
    "# 데이터셋 저장 절대경로\n",
    "dataset_dir = r\"C:\\Users\\USER-PC\\haneol\\DATASET_IMG_SIN\" # PYTHON VERSION - IMG_SIN\n",
    "\n",
    "DATA_DICT = {}\n",
    "\n",
    "for i in tqdm(snr, desc=\"Loading Files\"):\n",
    "    print(\"Now load SNR: \" + str(i))\n",
    "\n",
    "    base_dir = os.path.join(dataset_dir, str(i))\n",
    "\n",
    "    label_data = {}\n",
    "\n",
    "    # 디렉토리 내의 모든 .jpg 파일 목록 가져오기\n",
    "    files = [f for f in os.listdir(base_dir) if f.endswith('.jpg')]\n",
    "\n",
    "    # 각 .jpg 파일에 대해\n",
    "    for file in tqdm(files, desc=f\"SNR {i}\", position=0, leave=False):\n",
    "        # 절대 경로 생성하기\n",
    "        filepath = os.path.join(base_dir, file)\n",
    "\n",
    "        # 이미지 열기\n",
    "        with Image.open(filepath) as image:\n",
    "            # 이미지를 넘파이 배열로 변환\n",
    "            image_data = np.array(image)\n",
    "\n",
    "        # ch_code 값 추출하기 (예시: 문자열로 변환하여 추출)\n",
    "        ch_code_value = re.sub(r'_\\d+\\.jpg', '', file)\n",
    "\n",
    "        # Key에 따라 저장\n",
    "        key = (ch_code_value, i)\n",
    "        if key not in label_data:\n",
    "            label_data[key] = [image_data]\n",
    "        else:\n",
    "            label_data[key].append(image_data)\n",
    "\n",
    "    # 넘파이 배열로 변환된 이미지 데이터를 딕셔너리에 저장\n",
    "    for key in label_data.keys():\n",
    "        if key not in DATA_DICT:\n",
    "            DATA_DICT[key] = np.stack(label_data[key], axis=0)\n",
    "        else:\n",
    "            DATA_DICT[key] = np.concatenate([DATA_DICT[key], np.stack(label_data[key], axis=0)], axis=0)\n",
    "    \n",
    "    # 가비지 컬렉션 강제 수행\n",
    "    del label_data\n",
    "    gc.collect()\n"
   ]
  },
  {
   "cell_type": "code",
   "execution_count": 6,
   "metadata": {},
   "outputs": [
    {
     "name": "stdout",
     "output_type": "stream",
     "text": [
      "(61500, 128, 128)\n"
     ]
    }
   ],
   "source": [
    "SNR, X, Ch_Codes, one_hot, lbl_SNR = load_dataset(DATA_DICT, (-20, 20))"
   ]
  },
  {
   "cell_type": "code",
   "execution_count": 7,
   "metadata": {},
   "outputs": [
    {
     "name": "stdout",
     "output_type": "stream",
     "text": [
      "(61500, 128, 128, 1)\n"
     ]
    }
   ],
   "source": [
    "# IMG_Shape = (height, width, channel)\n",
    "X = X.reshape(-1, 128, 128, 1)\n",
    "print(X.shape)"
   ]
  },
  {
   "cell_type": "code",
   "execution_count": 8,
   "metadata": {},
   "outputs": [],
   "source": [
    "train_idx, valid_idx, test_idx, X_train, X_valid, X_test, Y_train, Y_valid, Y_test = train_test_valid_split(X, one_hot, train_split=0.8, valid_split=0.1, test_split=0.1)"
   ]
  },
  {
   "cell_type": "code",
   "execution_count": 9,
   "metadata": {},
   "outputs": [
    {
     "name": "stdout",
     "output_type": "stream",
     "text": [
      "(49200, 128, 128, 1)\n",
      "(6150, 128, 128, 1)\n",
      "(49200, 3)\n",
      "(6150, 3)\n"
     ]
    }
   ],
   "source": [
    "print(X_train.shape)\n",
    "print(X_test.shape)\n",
    "print(Y_train.shape)\n",
    "print(Y_test.shape)"
   ]
  },
  {
   "cell_type": "code",
   "execution_count": 10,
   "metadata": {},
   "outputs": [],
   "source": [
    "size_k = 2 # Kernel size \n",
    "size_p = 2 # Pooling size"
   ]
  },
  {
   "cell_type": "code",
   "execution_count": 23,
   "metadata": {},
   "outputs": [],
   "source": [
    "cnn_in = keras.layers.Input(shape=(128, 128, 1))\n",
    "\n",
    "cnn = keras.layers.Conv2D(filters=32, kernel_size=(8, 8), activation='relu')(cnn_in) \n",
    "# cnn = keras.layers.MaxPool2D(pool_size=(2, 2))(cnn)\n",
    "cnn = keras.layers.Dropout(rate=0.2)(cnn)\n",
    "\n",
    "cnn = keras.layers.Conv2D(filters=32, kernel_size=(4, 4), activation='relu')(cnn)  \n",
    "# cnn = keras.layers.MaxPool2D(pool_size=(2, 2))(cnn)\n",
    "cnn = keras.layers.Dropout(rate=0.2)(cnn)\n",
    "\n",
    "cnn = keras.layers.Conv2D(filters=16, kernel_size=(2, 2), activation='relu')(cnn)  \n",
    "# cnn = keras.layers.MaxPool2D(pool_size=(2, 2))(cnn)\n",
    "cnn = keras.layers.Dropout(rate=0.2)(cnn)\n",
    "\n",
    "cnn = keras.layers.Flatten()(cnn)  # (None, 2704) \n",
    "cnn = keras.layers.Dense(90, activation='relu')(cnn)\n",
    "\n",
    "cnn_out = keras.layers.Dense(len(classes), activation='softmax')(cnn)\n",
    "\n",
    "model_cnn = keras.models.Model(cnn_in, cnn_out)\n",
    "\n",
    "optimizer = keras.optimizers.Adam(learning_rate=0.001)\n",
    "\n",
    "model_cnn.compile(loss='categorical_crossentropy', optimizer=optimizer, metrics=['accuracy'])"
   ]
  },
  {
   "cell_type": "code",
   "execution_count": 24,
   "metadata": {},
   "outputs": [],
   "source": [
    "from keras.callbacks import EarlyStopping, ReduceLROnPlateau\n",
    "\n",
    "es = EarlyStopping(monitor='val_loss', patience=10, restore_best_weights=True)\n",
    "rlrop = ReduceLROnPlateau(monitor='val_loss', factor=0.1, patience=5)"
   ]
  },
  {
   "cell_type": "code",
   "execution_count": 25,
   "metadata": {},
   "outputs": [
    {
     "data": {
      "text/html": [
       "<pre style=\"white-space:pre;overflow-x:auto;line-height:normal;font-family:Menlo,'DejaVu Sans Mono',consolas,'Courier New',monospace\"><span style=\"font-weight: bold\">Model: \"functional_3\"</span>\n",
       "</pre>\n"
      ],
      "text/plain": [
       "\u001b[1mModel: \"functional_3\"\u001b[0m\n"
      ]
     },
     "metadata": {},
     "output_type": "display_data"
    },
    {
     "data": {
      "text/html": [
       "<pre style=\"white-space:pre;overflow-x:auto;line-height:normal;font-family:Menlo,'DejaVu Sans Mono',consolas,'Courier New',monospace\">┏━━━━━━━━━━━━━━━━━━━━━━━━━━━━━━━━━┳━━━━━━━━━━━━━━━━━━━━━━━━┳━━━━━━━━━━━━━━━┓\n",
       "┃<span style=\"font-weight: bold\"> Layer (type)                    </span>┃<span style=\"font-weight: bold\"> Output Shape           </span>┃<span style=\"font-weight: bold\">       Param # </span>┃\n",
       "┡━━━━━━━━━━━━━━━━━━━━━━━━━━━━━━━━━╇━━━━━━━━━━━━━━━━━━━━━━━━╇━━━━━━━━━━━━━━━┩\n",
       "│ input_layer_1 (<span style=\"color: #0087ff; text-decoration-color: #0087ff\">InputLayer</span>)      │ (<span style=\"color: #00d7ff; text-decoration-color: #00d7ff\">None</span>, <span style=\"color: #00af00; text-decoration-color: #00af00\">128</span>, <span style=\"color: #00af00; text-decoration-color: #00af00\">128</span>, <span style=\"color: #00af00; text-decoration-color: #00af00\">1</span>)    │             <span style=\"color: #00af00; text-decoration-color: #00af00\">0</span> │\n",
       "├─────────────────────────────────┼────────────────────────┼───────────────┤\n",
       "│ conv2d_3 (<span style=\"color: #0087ff; text-decoration-color: #0087ff\">Conv2D</span>)               │ (<span style=\"color: #00d7ff; text-decoration-color: #00d7ff\">None</span>, <span style=\"color: #00af00; text-decoration-color: #00af00\">121</span>, <span style=\"color: #00af00; text-decoration-color: #00af00\">121</span>, <span style=\"color: #00af00; text-decoration-color: #00af00\">32</span>)   │         <span style=\"color: #00af00; text-decoration-color: #00af00\">2,080</span> │\n",
       "├─────────────────────────────────┼────────────────────────┼───────────────┤\n",
       "│ dropout_3 (<span style=\"color: #0087ff; text-decoration-color: #0087ff\">Dropout</span>)             │ (<span style=\"color: #00d7ff; text-decoration-color: #00d7ff\">None</span>, <span style=\"color: #00af00; text-decoration-color: #00af00\">121</span>, <span style=\"color: #00af00; text-decoration-color: #00af00\">121</span>, <span style=\"color: #00af00; text-decoration-color: #00af00\">32</span>)   │             <span style=\"color: #00af00; text-decoration-color: #00af00\">0</span> │\n",
       "├─────────────────────────────────┼────────────────────────┼───────────────┤\n",
       "│ conv2d_4 (<span style=\"color: #0087ff; text-decoration-color: #0087ff\">Conv2D</span>)               │ (<span style=\"color: #00d7ff; text-decoration-color: #00d7ff\">None</span>, <span style=\"color: #00af00; text-decoration-color: #00af00\">118</span>, <span style=\"color: #00af00; text-decoration-color: #00af00\">118</span>, <span style=\"color: #00af00; text-decoration-color: #00af00\">32</span>)   │        <span style=\"color: #00af00; text-decoration-color: #00af00\">16,416</span> │\n",
       "├─────────────────────────────────┼────────────────────────┼───────────────┤\n",
       "│ dropout_4 (<span style=\"color: #0087ff; text-decoration-color: #0087ff\">Dropout</span>)             │ (<span style=\"color: #00d7ff; text-decoration-color: #00d7ff\">None</span>, <span style=\"color: #00af00; text-decoration-color: #00af00\">118</span>, <span style=\"color: #00af00; text-decoration-color: #00af00\">118</span>, <span style=\"color: #00af00; text-decoration-color: #00af00\">32</span>)   │             <span style=\"color: #00af00; text-decoration-color: #00af00\">0</span> │\n",
       "├─────────────────────────────────┼────────────────────────┼───────────────┤\n",
       "│ conv2d_5 (<span style=\"color: #0087ff; text-decoration-color: #0087ff\">Conv2D</span>)               │ (<span style=\"color: #00d7ff; text-decoration-color: #00d7ff\">None</span>, <span style=\"color: #00af00; text-decoration-color: #00af00\">117</span>, <span style=\"color: #00af00; text-decoration-color: #00af00\">117</span>, <span style=\"color: #00af00; text-decoration-color: #00af00\">16</span>)   │         <span style=\"color: #00af00; text-decoration-color: #00af00\">2,064</span> │\n",
       "├─────────────────────────────────┼────────────────────────┼───────────────┤\n",
       "│ dropout_5 (<span style=\"color: #0087ff; text-decoration-color: #0087ff\">Dropout</span>)             │ (<span style=\"color: #00d7ff; text-decoration-color: #00d7ff\">None</span>, <span style=\"color: #00af00; text-decoration-color: #00af00\">117</span>, <span style=\"color: #00af00; text-decoration-color: #00af00\">117</span>, <span style=\"color: #00af00; text-decoration-color: #00af00\">16</span>)   │             <span style=\"color: #00af00; text-decoration-color: #00af00\">0</span> │\n",
       "├─────────────────────────────────┼────────────────────────┼───────────────┤\n",
       "│ flatten_1 (<span style=\"color: #0087ff; text-decoration-color: #0087ff\">Flatten</span>)             │ (<span style=\"color: #00d7ff; text-decoration-color: #00d7ff\">None</span>, <span style=\"color: #00af00; text-decoration-color: #00af00\">219024</span>)         │             <span style=\"color: #00af00; text-decoration-color: #00af00\">0</span> │\n",
       "├─────────────────────────────────┼────────────────────────┼───────────────┤\n",
       "│ dense_2 (<span style=\"color: #0087ff; text-decoration-color: #0087ff\">Dense</span>)                 │ (<span style=\"color: #00d7ff; text-decoration-color: #00d7ff\">None</span>, <span style=\"color: #00af00; text-decoration-color: #00af00\">90</span>)             │    <span style=\"color: #00af00; text-decoration-color: #00af00\">19,712,250</span> │\n",
       "├─────────────────────────────────┼────────────────────────┼───────────────┤\n",
       "│ dense_3 (<span style=\"color: #0087ff; text-decoration-color: #0087ff\">Dense</span>)                 │ (<span style=\"color: #00d7ff; text-decoration-color: #00d7ff\">None</span>, <span style=\"color: #00af00; text-decoration-color: #00af00\">3</span>)              │           <span style=\"color: #00af00; text-decoration-color: #00af00\">273</span> │\n",
       "└─────────────────────────────────┴────────────────────────┴───────────────┘\n",
       "</pre>\n"
      ],
      "text/plain": [
       "┏━━━━━━━━━━━━━━━━━━━━━━━━━━━━━━━━━┳━━━━━━━━━━━━━━━━━━━━━━━━┳━━━━━━━━━━━━━━━┓\n",
       "┃\u001b[1m \u001b[0m\u001b[1mLayer (type)                   \u001b[0m\u001b[1m \u001b[0m┃\u001b[1m \u001b[0m\u001b[1mOutput Shape          \u001b[0m\u001b[1m \u001b[0m┃\u001b[1m \u001b[0m\u001b[1m      Param #\u001b[0m\u001b[1m \u001b[0m┃\n",
       "┡━━━━━━━━━━━━━━━━━━━━━━━━━━━━━━━━━╇━━━━━━━━━━━━━━━━━━━━━━━━╇━━━━━━━━━━━━━━━┩\n",
       "│ input_layer_1 (\u001b[38;5;33mInputLayer\u001b[0m)      │ (\u001b[38;5;45mNone\u001b[0m, \u001b[38;5;34m128\u001b[0m, \u001b[38;5;34m128\u001b[0m, \u001b[38;5;34m1\u001b[0m)    │             \u001b[38;5;34m0\u001b[0m │\n",
       "├─────────────────────────────────┼────────────────────────┼───────────────┤\n",
       "│ conv2d_3 (\u001b[38;5;33mConv2D\u001b[0m)               │ (\u001b[38;5;45mNone\u001b[0m, \u001b[38;5;34m121\u001b[0m, \u001b[38;5;34m121\u001b[0m, \u001b[38;5;34m32\u001b[0m)   │         \u001b[38;5;34m2,080\u001b[0m │\n",
       "├─────────────────────────────────┼────────────────────────┼───────────────┤\n",
       "│ dropout_3 (\u001b[38;5;33mDropout\u001b[0m)             │ (\u001b[38;5;45mNone\u001b[0m, \u001b[38;5;34m121\u001b[0m, \u001b[38;5;34m121\u001b[0m, \u001b[38;5;34m32\u001b[0m)   │             \u001b[38;5;34m0\u001b[0m │\n",
       "├─────────────────────────────────┼────────────────────────┼───────────────┤\n",
       "│ conv2d_4 (\u001b[38;5;33mConv2D\u001b[0m)               │ (\u001b[38;5;45mNone\u001b[0m, \u001b[38;5;34m118\u001b[0m, \u001b[38;5;34m118\u001b[0m, \u001b[38;5;34m32\u001b[0m)   │        \u001b[38;5;34m16,416\u001b[0m │\n",
       "├─────────────────────────────────┼────────────────────────┼───────────────┤\n",
       "│ dropout_4 (\u001b[38;5;33mDropout\u001b[0m)             │ (\u001b[38;5;45mNone\u001b[0m, \u001b[38;5;34m118\u001b[0m, \u001b[38;5;34m118\u001b[0m, \u001b[38;5;34m32\u001b[0m)   │             \u001b[38;5;34m0\u001b[0m │\n",
       "├─────────────────────────────────┼────────────────────────┼───────────────┤\n",
       "│ conv2d_5 (\u001b[38;5;33mConv2D\u001b[0m)               │ (\u001b[38;5;45mNone\u001b[0m, \u001b[38;5;34m117\u001b[0m, \u001b[38;5;34m117\u001b[0m, \u001b[38;5;34m16\u001b[0m)   │         \u001b[38;5;34m2,064\u001b[0m │\n",
       "├─────────────────────────────────┼────────────────────────┼───────────────┤\n",
       "│ dropout_5 (\u001b[38;5;33mDropout\u001b[0m)             │ (\u001b[38;5;45mNone\u001b[0m, \u001b[38;5;34m117\u001b[0m, \u001b[38;5;34m117\u001b[0m, \u001b[38;5;34m16\u001b[0m)   │             \u001b[38;5;34m0\u001b[0m │\n",
       "├─────────────────────────────────┼────────────────────────┼───────────────┤\n",
       "│ flatten_1 (\u001b[38;5;33mFlatten\u001b[0m)             │ (\u001b[38;5;45mNone\u001b[0m, \u001b[38;5;34m219024\u001b[0m)         │             \u001b[38;5;34m0\u001b[0m │\n",
       "├─────────────────────────────────┼────────────────────────┼───────────────┤\n",
       "│ dense_2 (\u001b[38;5;33mDense\u001b[0m)                 │ (\u001b[38;5;45mNone\u001b[0m, \u001b[38;5;34m90\u001b[0m)             │    \u001b[38;5;34m19,712,250\u001b[0m │\n",
       "├─────────────────────────────────┼────────────────────────┼───────────────┤\n",
       "│ dense_3 (\u001b[38;5;33mDense\u001b[0m)                 │ (\u001b[38;5;45mNone\u001b[0m, \u001b[38;5;34m3\u001b[0m)              │           \u001b[38;5;34m273\u001b[0m │\n",
       "└─────────────────────────────────┴────────────────────────┴───────────────┘\n"
      ]
     },
     "metadata": {},
     "output_type": "display_data"
    },
    {
     "data": {
      "text/html": [
       "<pre style=\"white-space:pre;overflow-x:auto;line-height:normal;font-family:Menlo,'DejaVu Sans Mono',consolas,'Courier New',monospace\"><span style=\"font-weight: bold\"> Total params: </span><span style=\"color: #00af00; text-decoration-color: #00af00\">19,733,083</span> (75.28 MB)\n",
       "</pre>\n"
      ],
      "text/plain": [
       "\u001b[1m Total params: \u001b[0m\u001b[38;5;34m19,733,083\u001b[0m (75.28 MB)\n"
      ]
     },
     "metadata": {},
     "output_type": "display_data"
    },
    {
     "data": {
      "text/html": [
       "<pre style=\"white-space:pre;overflow-x:auto;line-height:normal;font-family:Menlo,'DejaVu Sans Mono',consolas,'Courier New',monospace\"><span style=\"font-weight: bold\"> Trainable params: </span><span style=\"color: #00af00; text-decoration-color: #00af00\">19,733,083</span> (75.28 MB)\n",
       "</pre>\n"
      ],
      "text/plain": [
       "\u001b[1m Trainable params: \u001b[0m\u001b[38;5;34m19,733,083\u001b[0m (75.28 MB)\n"
      ]
     },
     "metadata": {},
     "output_type": "display_data"
    },
    {
     "data": {
      "text/html": [
       "<pre style=\"white-space:pre;overflow-x:auto;line-height:normal;font-family:Menlo,'DejaVu Sans Mono',consolas,'Courier New',monospace\"><span style=\"font-weight: bold\"> Non-trainable params: </span><span style=\"color: #00af00; text-decoration-color: #00af00\">0</span> (0.00 B)\n",
       "</pre>\n"
      ],
      "text/plain": [
       "\u001b[1m Non-trainable params: \u001b[0m\u001b[38;5;34m0\u001b[0m (0.00 B)\n"
      ]
     },
     "metadata": {},
     "output_type": "display_data"
    }
   ],
   "source": [
    "model_cnn.summary()"
   ]
  },
  {
   "cell_type": "code",
   "execution_count": 26,
   "metadata": {},
   "outputs": [
    {
     "name": "stdout",
     "output_type": "stream",
     "text": [
      "Epoch 1/100\n",
      "\u001b[1m  3/385\u001b[0m \u001b[37m━━━━━━━━━━━━━━━━━━━━\u001b[0m \u001b[1m7:11\u001b[0m 1s/step - accuracy: 0.3268 - loss: 40.4880"
     ]
    },
    {
     "ename": "KeyboardInterrupt",
     "evalue": "",
     "output_type": "error",
     "traceback": [
      "\u001b[1;31m---------------------------------------------------------------------------\u001b[0m",
      "\u001b[1;31mKeyboardInterrupt\u001b[0m                         Traceback (most recent call last)",
      "Cell \u001b[1;32mIn[26], line 1\u001b[0m\n\u001b[1;32m----> 1\u001b[0m history \u001b[38;5;241m=\u001b[39m model_cnn\u001b[38;5;241m.\u001b[39mfit(X_train, Y_train, batch_size\u001b[38;5;241m=\u001b[39m\u001b[38;5;241m128\u001b[39m, epochs\u001b[38;5;241m=\u001b[39m\u001b[38;5;241m100\u001b[39m, verbose\u001b[38;5;241m=\u001b[39m\u001b[38;5;241m1\u001b[39m, validation_data\u001b[38;5;241m=\u001b[39m(X_valid, Y_valid), callbacks\u001b[38;5;241m=\u001b[39m[es, rlrop])\n",
      "File \u001b[1;32mc:\\Users\\USER-PC\\anaconda3\\envs\\pytorch\\Lib\\site-packages\\keras\\src\\utils\\traceback_utils.py:117\u001b[0m, in \u001b[0;36mfilter_traceback.<locals>.error_handler\u001b[1;34m(*args, **kwargs)\u001b[0m\n\u001b[0;32m    115\u001b[0m filtered_tb \u001b[38;5;241m=\u001b[39m \u001b[38;5;28;01mNone\u001b[39;00m\n\u001b[0;32m    116\u001b[0m \u001b[38;5;28;01mtry\u001b[39;00m:\n\u001b[1;32m--> 117\u001b[0m     \u001b[38;5;28;01mreturn\u001b[39;00m fn(\u001b[38;5;241m*\u001b[39margs, \u001b[38;5;241m*\u001b[39m\u001b[38;5;241m*\u001b[39mkwargs)\n\u001b[0;32m    118\u001b[0m \u001b[38;5;28;01mexcept\u001b[39;00m \u001b[38;5;167;01mException\u001b[39;00m \u001b[38;5;28;01mas\u001b[39;00m e:\n\u001b[0;32m    119\u001b[0m     filtered_tb \u001b[38;5;241m=\u001b[39m _process_traceback_frames(e\u001b[38;5;241m.\u001b[39m__traceback__)\n",
      "File \u001b[1;32mc:\\Users\\USER-PC\\anaconda3\\envs\\pytorch\\Lib\\site-packages\\keras\\src\\backend\\tensorflow\\trainer.py:325\u001b[0m, in \u001b[0;36mTensorFlowTrainer.fit\u001b[1;34m(self, x, y, batch_size, epochs, verbose, callbacks, validation_split, validation_data, shuffle, class_weight, sample_weight, initial_epoch, steps_per_epoch, validation_steps, validation_batch_size, validation_freq)\u001b[0m\n\u001b[0;32m    323\u001b[0m \u001b[38;5;28;01mfor\u001b[39;00m step, iterator \u001b[38;5;129;01min\u001b[39;00m epoch_iterator\u001b[38;5;241m.\u001b[39menumerate_epoch():\n\u001b[0;32m    324\u001b[0m     callbacks\u001b[38;5;241m.\u001b[39mon_train_batch_begin(step)\n\u001b[1;32m--> 325\u001b[0m     logs \u001b[38;5;241m=\u001b[39m \u001b[38;5;28mself\u001b[39m\u001b[38;5;241m.\u001b[39mtrain_function(iterator)\n\u001b[0;32m    326\u001b[0m     callbacks\u001b[38;5;241m.\u001b[39mon_train_batch_end(\n\u001b[0;32m    327\u001b[0m         step, \u001b[38;5;28mself\u001b[39m\u001b[38;5;241m.\u001b[39m_pythonify_logs(logs)\n\u001b[0;32m    328\u001b[0m     )\n\u001b[0;32m    329\u001b[0m     \u001b[38;5;28;01mif\u001b[39;00m \u001b[38;5;28mself\u001b[39m\u001b[38;5;241m.\u001b[39mstop_training:\n",
      "File \u001b[1;32mc:\\Users\\USER-PC\\anaconda3\\envs\\pytorch\\Lib\\site-packages\\tensorflow\\python\\util\\traceback_utils.py:150\u001b[0m, in \u001b[0;36mfilter_traceback.<locals>.error_handler\u001b[1;34m(*args, **kwargs)\u001b[0m\n\u001b[0;32m    148\u001b[0m filtered_tb \u001b[38;5;241m=\u001b[39m \u001b[38;5;28;01mNone\u001b[39;00m\n\u001b[0;32m    149\u001b[0m \u001b[38;5;28;01mtry\u001b[39;00m:\n\u001b[1;32m--> 150\u001b[0m   \u001b[38;5;28;01mreturn\u001b[39;00m fn(\u001b[38;5;241m*\u001b[39margs, \u001b[38;5;241m*\u001b[39m\u001b[38;5;241m*\u001b[39mkwargs)\n\u001b[0;32m    151\u001b[0m \u001b[38;5;28;01mexcept\u001b[39;00m \u001b[38;5;167;01mException\u001b[39;00m \u001b[38;5;28;01mas\u001b[39;00m e:\n\u001b[0;32m    152\u001b[0m   filtered_tb \u001b[38;5;241m=\u001b[39m _process_traceback_frames(e\u001b[38;5;241m.\u001b[39m__traceback__)\n",
      "File \u001b[1;32mc:\\Users\\USER-PC\\anaconda3\\envs\\pytorch\\Lib\\site-packages\\tensorflow\\python\\eager\\polymorphic_function\\polymorphic_function.py:833\u001b[0m, in \u001b[0;36mFunction.__call__\u001b[1;34m(self, *args, **kwds)\u001b[0m\n\u001b[0;32m    830\u001b[0m compiler \u001b[38;5;241m=\u001b[39m \u001b[38;5;124m\"\u001b[39m\u001b[38;5;124mxla\u001b[39m\u001b[38;5;124m\"\u001b[39m \u001b[38;5;28;01mif\u001b[39;00m \u001b[38;5;28mself\u001b[39m\u001b[38;5;241m.\u001b[39m_jit_compile \u001b[38;5;28;01melse\u001b[39;00m \u001b[38;5;124m\"\u001b[39m\u001b[38;5;124mnonXla\u001b[39m\u001b[38;5;124m\"\u001b[39m\n\u001b[0;32m    832\u001b[0m \u001b[38;5;28;01mwith\u001b[39;00m OptionalXlaContext(\u001b[38;5;28mself\u001b[39m\u001b[38;5;241m.\u001b[39m_jit_compile):\n\u001b[1;32m--> 833\u001b[0m   result \u001b[38;5;241m=\u001b[39m \u001b[38;5;28mself\u001b[39m\u001b[38;5;241m.\u001b[39m_call(\u001b[38;5;241m*\u001b[39margs, \u001b[38;5;241m*\u001b[39m\u001b[38;5;241m*\u001b[39mkwds)\n\u001b[0;32m    835\u001b[0m new_tracing_count \u001b[38;5;241m=\u001b[39m \u001b[38;5;28mself\u001b[39m\u001b[38;5;241m.\u001b[39mexperimental_get_tracing_count()\n\u001b[0;32m    836\u001b[0m without_tracing \u001b[38;5;241m=\u001b[39m (tracing_count \u001b[38;5;241m==\u001b[39m new_tracing_count)\n",
      "File \u001b[1;32mc:\\Users\\USER-PC\\anaconda3\\envs\\pytorch\\Lib\\site-packages\\tensorflow\\python\\eager\\polymorphic_function\\polymorphic_function.py:878\u001b[0m, in \u001b[0;36mFunction._call\u001b[1;34m(self, *args, **kwds)\u001b[0m\n\u001b[0;32m    875\u001b[0m \u001b[38;5;28mself\u001b[39m\u001b[38;5;241m.\u001b[39m_lock\u001b[38;5;241m.\u001b[39mrelease()\n\u001b[0;32m    876\u001b[0m \u001b[38;5;66;03m# In this case we have not created variables on the first call. So we can\u001b[39;00m\n\u001b[0;32m    877\u001b[0m \u001b[38;5;66;03m# run the first trace but we should fail if variables are created.\u001b[39;00m\n\u001b[1;32m--> 878\u001b[0m results \u001b[38;5;241m=\u001b[39m tracing_compilation\u001b[38;5;241m.\u001b[39mcall_function(\n\u001b[0;32m    879\u001b[0m     args, kwds, \u001b[38;5;28mself\u001b[39m\u001b[38;5;241m.\u001b[39m_variable_creation_config\n\u001b[0;32m    880\u001b[0m )\n\u001b[0;32m    881\u001b[0m \u001b[38;5;28;01mif\u001b[39;00m \u001b[38;5;28mself\u001b[39m\u001b[38;5;241m.\u001b[39m_created_variables:\n\u001b[0;32m    882\u001b[0m   \u001b[38;5;28;01mraise\u001b[39;00m \u001b[38;5;167;01mValueError\u001b[39;00m(\u001b[38;5;124m\"\u001b[39m\u001b[38;5;124mCreating variables on a non-first call to a function\u001b[39m\u001b[38;5;124m\"\u001b[39m\n\u001b[0;32m    883\u001b[0m                    \u001b[38;5;124m\"\u001b[39m\u001b[38;5;124m decorated with tf.function.\u001b[39m\u001b[38;5;124m\"\u001b[39m)\n",
      "File \u001b[1;32mc:\\Users\\USER-PC\\anaconda3\\envs\\pytorch\\Lib\\site-packages\\tensorflow\\python\\eager\\polymorphic_function\\tracing_compilation.py:139\u001b[0m, in \u001b[0;36mcall_function\u001b[1;34m(args, kwargs, tracing_options)\u001b[0m\n\u001b[0;32m    137\u001b[0m bound_args \u001b[38;5;241m=\u001b[39m function\u001b[38;5;241m.\u001b[39mfunction_type\u001b[38;5;241m.\u001b[39mbind(\u001b[38;5;241m*\u001b[39margs, \u001b[38;5;241m*\u001b[39m\u001b[38;5;241m*\u001b[39mkwargs)\n\u001b[0;32m    138\u001b[0m flat_inputs \u001b[38;5;241m=\u001b[39m function\u001b[38;5;241m.\u001b[39mfunction_type\u001b[38;5;241m.\u001b[39munpack_inputs(bound_args)\n\u001b[1;32m--> 139\u001b[0m \u001b[38;5;28;01mreturn\u001b[39;00m function\u001b[38;5;241m.\u001b[39m_call_flat(  \u001b[38;5;66;03m# pylint: disable=protected-access\u001b[39;00m\n\u001b[0;32m    140\u001b[0m     flat_inputs, captured_inputs\u001b[38;5;241m=\u001b[39mfunction\u001b[38;5;241m.\u001b[39mcaptured_inputs\n\u001b[0;32m    141\u001b[0m )\n",
      "File \u001b[1;32mc:\\Users\\USER-PC\\anaconda3\\envs\\pytorch\\Lib\\site-packages\\tensorflow\\python\\eager\\polymorphic_function\\concrete_function.py:1322\u001b[0m, in \u001b[0;36mConcreteFunction._call_flat\u001b[1;34m(self, tensor_inputs, captured_inputs)\u001b[0m\n\u001b[0;32m   1318\u001b[0m possible_gradient_type \u001b[38;5;241m=\u001b[39m gradients_util\u001b[38;5;241m.\u001b[39mPossibleTapeGradientTypes(args)\n\u001b[0;32m   1319\u001b[0m \u001b[38;5;28;01mif\u001b[39;00m (possible_gradient_type \u001b[38;5;241m==\u001b[39m gradients_util\u001b[38;5;241m.\u001b[39mPOSSIBLE_GRADIENT_TYPES_NONE\n\u001b[0;32m   1320\u001b[0m     \u001b[38;5;129;01mand\u001b[39;00m executing_eagerly):\n\u001b[0;32m   1321\u001b[0m   \u001b[38;5;66;03m# No tape is watching; skip to running the function.\u001b[39;00m\n\u001b[1;32m-> 1322\u001b[0m   \u001b[38;5;28;01mreturn\u001b[39;00m \u001b[38;5;28mself\u001b[39m\u001b[38;5;241m.\u001b[39m_inference_function\u001b[38;5;241m.\u001b[39mcall_preflattened(args)\n\u001b[0;32m   1323\u001b[0m forward_backward \u001b[38;5;241m=\u001b[39m \u001b[38;5;28mself\u001b[39m\u001b[38;5;241m.\u001b[39m_select_forward_and_backward_functions(\n\u001b[0;32m   1324\u001b[0m     args,\n\u001b[0;32m   1325\u001b[0m     possible_gradient_type,\n\u001b[0;32m   1326\u001b[0m     executing_eagerly)\n\u001b[0;32m   1327\u001b[0m forward_function, args_with_tangents \u001b[38;5;241m=\u001b[39m forward_backward\u001b[38;5;241m.\u001b[39mforward()\n",
      "File \u001b[1;32mc:\\Users\\USER-PC\\anaconda3\\envs\\pytorch\\Lib\\site-packages\\tensorflow\\python\\eager\\polymorphic_function\\atomic_function.py:216\u001b[0m, in \u001b[0;36mAtomicFunction.call_preflattened\u001b[1;34m(self, args)\u001b[0m\n\u001b[0;32m    214\u001b[0m \u001b[38;5;28;01mdef\u001b[39;00m \u001b[38;5;21mcall_preflattened\u001b[39m(\u001b[38;5;28mself\u001b[39m, args: Sequence[core\u001b[38;5;241m.\u001b[39mTensor]) \u001b[38;5;241m-\u001b[39m\u001b[38;5;241m>\u001b[39m Any:\n\u001b[0;32m    215\u001b[0m \u001b[38;5;250m  \u001b[39m\u001b[38;5;124;03m\"\"\"Calls with flattened tensor inputs and returns the structured output.\"\"\"\u001b[39;00m\n\u001b[1;32m--> 216\u001b[0m   flat_outputs \u001b[38;5;241m=\u001b[39m \u001b[38;5;28mself\u001b[39m\u001b[38;5;241m.\u001b[39mcall_flat(\u001b[38;5;241m*\u001b[39margs)\n\u001b[0;32m    217\u001b[0m   \u001b[38;5;28;01mreturn\u001b[39;00m \u001b[38;5;28mself\u001b[39m\u001b[38;5;241m.\u001b[39mfunction_type\u001b[38;5;241m.\u001b[39mpack_output(flat_outputs)\n",
      "File \u001b[1;32mc:\\Users\\USER-PC\\anaconda3\\envs\\pytorch\\Lib\\site-packages\\tensorflow\\python\\eager\\polymorphic_function\\atomic_function.py:251\u001b[0m, in \u001b[0;36mAtomicFunction.call_flat\u001b[1;34m(self, *args)\u001b[0m\n\u001b[0;32m    249\u001b[0m \u001b[38;5;28;01mwith\u001b[39;00m record\u001b[38;5;241m.\u001b[39mstop_recording():\n\u001b[0;32m    250\u001b[0m   \u001b[38;5;28;01mif\u001b[39;00m \u001b[38;5;28mself\u001b[39m\u001b[38;5;241m.\u001b[39m_bound_context\u001b[38;5;241m.\u001b[39mexecuting_eagerly():\n\u001b[1;32m--> 251\u001b[0m     outputs \u001b[38;5;241m=\u001b[39m \u001b[38;5;28mself\u001b[39m\u001b[38;5;241m.\u001b[39m_bound_context\u001b[38;5;241m.\u001b[39mcall_function(\n\u001b[0;32m    252\u001b[0m         \u001b[38;5;28mself\u001b[39m\u001b[38;5;241m.\u001b[39mname,\n\u001b[0;32m    253\u001b[0m         \u001b[38;5;28mlist\u001b[39m(args),\n\u001b[0;32m    254\u001b[0m         \u001b[38;5;28mlen\u001b[39m(\u001b[38;5;28mself\u001b[39m\u001b[38;5;241m.\u001b[39mfunction_type\u001b[38;5;241m.\u001b[39mflat_outputs),\n\u001b[0;32m    255\u001b[0m     )\n\u001b[0;32m    256\u001b[0m   \u001b[38;5;28;01melse\u001b[39;00m:\n\u001b[0;32m    257\u001b[0m     outputs \u001b[38;5;241m=\u001b[39m make_call_op_in_graph(\n\u001b[0;32m    258\u001b[0m         \u001b[38;5;28mself\u001b[39m,\n\u001b[0;32m    259\u001b[0m         \u001b[38;5;28mlist\u001b[39m(args),\n\u001b[0;32m    260\u001b[0m         \u001b[38;5;28mself\u001b[39m\u001b[38;5;241m.\u001b[39m_bound_context\u001b[38;5;241m.\u001b[39mfunction_call_options\u001b[38;5;241m.\u001b[39mas_attrs(),\n\u001b[0;32m    261\u001b[0m     )\n",
      "File \u001b[1;32mc:\\Users\\USER-PC\\anaconda3\\envs\\pytorch\\Lib\\site-packages\\tensorflow\\python\\eager\\context.py:1500\u001b[0m, in \u001b[0;36mContext.call_function\u001b[1;34m(self, name, tensor_inputs, num_outputs)\u001b[0m\n\u001b[0;32m   1498\u001b[0m cancellation_context \u001b[38;5;241m=\u001b[39m cancellation\u001b[38;5;241m.\u001b[39mcontext()\n\u001b[0;32m   1499\u001b[0m \u001b[38;5;28;01mif\u001b[39;00m cancellation_context \u001b[38;5;129;01mis\u001b[39;00m \u001b[38;5;28;01mNone\u001b[39;00m:\n\u001b[1;32m-> 1500\u001b[0m   outputs \u001b[38;5;241m=\u001b[39m execute\u001b[38;5;241m.\u001b[39mexecute(\n\u001b[0;32m   1501\u001b[0m       name\u001b[38;5;241m.\u001b[39mdecode(\u001b[38;5;124m\"\u001b[39m\u001b[38;5;124mutf-8\u001b[39m\u001b[38;5;124m\"\u001b[39m),\n\u001b[0;32m   1502\u001b[0m       num_outputs\u001b[38;5;241m=\u001b[39mnum_outputs,\n\u001b[0;32m   1503\u001b[0m       inputs\u001b[38;5;241m=\u001b[39mtensor_inputs,\n\u001b[0;32m   1504\u001b[0m       attrs\u001b[38;5;241m=\u001b[39mattrs,\n\u001b[0;32m   1505\u001b[0m       ctx\u001b[38;5;241m=\u001b[39m\u001b[38;5;28mself\u001b[39m,\n\u001b[0;32m   1506\u001b[0m   )\n\u001b[0;32m   1507\u001b[0m \u001b[38;5;28;01melse\u001b[39;00m:\n\u001b[0;32m   1508\u001b[0m   outputs \u001b[38;5;241m=\u001b[39m execute\u001b[38;5;241m.\u001b[39mexecute_with_cancellation(\n\u001b[0;32m   1509\u001b[0m       name\u001b[38;5;241m.\u001b[39mdecode(\u001b[38;5;124m\"\u001b[39m\u001b[38;5;124mutf-8\u001b[39m\u001b[38;5;124m\"\u001b[39m),\n\u001b[0;32m   1510\u001b[0m       num_outputs\u001b[38;5;241m=\u001b[39mnum_outputs,\n\u001b[1;32m   (...)\u001b[0m\n\u001b[0;32m   1514\u001b[0m       cancellation_manager\u001b[38;5;241m=\u001b[39mcancellation_context,\n\u001b[0;32m   1515\u001b[0m   )\n",
      "File \u001b[1;32mc:\\Users\\USER-PC\\anaconda3\\envs\\pytorch\\Lib\\site-packages\\tensorflow\\python\\eager\\execute.py:53\u001b[0m, in \u001b[0;36mquick_execute\u001b[1;34m(op_name, num_outputs, inputs, attrs, ctx, name)\u001b[0m\n\u001b[0;32m     51\u001b[0m \u001b[38;5;28;01mtry\u001b[39;00m:\n\u001b[0;32m     52\u001b[0m   ctx\u001b[38;5;241m.\u001b[39mensure_initialized()\n\u001b[1;32m---> 53\u001b[0m   tensors \u001b[38;5;241m=\u001b[39m pywrap_tfe\u001b[38;5;241m.\u001b[39mTFE_Py_Execute(ctx\u001b[38;5;241m.\u001b[39m_handle, device_name, op_name,\n\u001b[0;32m     54\u001b[0m                                       inputs, attrs, num_outputs)\n\u001b[0;32m     55\u001b[0m \u001b[38;5;28;01mexcept\u001b[39;00m core\u001b[38;5;241m.\u001b[39m_NotOkStatusException \u001b[38;5;28;01mas\u001b[39;00m e:\n\u001b[0;32m     56\u001b[0m   \u001b[38;5;28;01mif\u001b[39;00m name \u001b[38;5;129;01mis\u001b[39;00m \u001b[38;5;129;01mnot\u001b[39;00m \u001b[38;5;28;01mNone\u001b[39;00m:\n",
      "\u001b[1;31mKeyboardInterrupt\u001b[0m: "
     ]
    }
   ],
   "source": [
    "history = model_cnn.fit(X_train, Y_train, batch_size=128, epochs=100, verbose=1, validation_data=(X_valid, Y_valid), callbacks=[es, rlrop])"
   ]
  },
  {
   "cell_type": "code",
   "execution_count": 15,
   "metadata": {},
   "outputs": [],
   "source": [
    "import matplotlib.pyplot as plt\n",
    "import numpy as np\n",
    "\n",
    "def plot_confusion_matrix(cm, labels=[], title='Confusion matrix', cmap=plt.cm.Blues):\n",
    "    \"\"\"\n",
    "    This function generates and displays a confusion matrix plot using Matplotlib.\n",
    "\n",
    "    Parameters:\n",
    "    - cm: Confusion matrix, a 2D numpy array where rows represent true labels and columns represent predicted labels.\n",
    "    - labels: List of labels for different classes (optional, default is an empty list).\n",
    "    - title: Title for the confusion matrix plot (optional, default is 'Confusion matrix').\n",
    "    - cmap: Colormap for the plot (optional, default is plt.cm.Blues).\n",
    "\n",
    "      This function creates a visual representation of a confusion matrix, which is a table used to evaluate the performance of a classification algorithm.\n",
    "\n",
    "      The confusion matrix is passed as the 'cm' parameter, and optional parameters allow customization of the plot appearance.\n",
    "\n",
    "      The plot includes color-coded cells representing the elements of the confusion matrix, a colorbar for reference, and text annotations displaying the numerical values at each matrix position.\n",
    "\n",
    "      The text color is dynamically set to white or black based on the magnitude of each value.\n",
    "\n",
    "      Additionally, the plot can be saved as a PNG file, but the saving location ('save_result_dir') is not provided in this code snippet and should be defined before using the function.\n",
    "\n",
    "    Example usage:\n",
    "      plot_confusion_matrix(confusion_matrix_data, labels=['Class1', 'Class2', 'Class3'], title='Model Performance')\n",
    "    \"\"\"\n",
    "    plt.imshow(cm, interpolation='nearest', cmap=cmap)\n",
    "    plt.title(title)\n",
    "    plt.colorbar()\n",
    "    tick_marks = np.arange(len(labels))\n",
    "    plt.xticks(tick_marks, labels, rotation=45)\n",
    "    plt.yticks(tick_marks, labels)\n",
    "\n",
    "    for i in range(len(labels)):\n",
    "        for j in range(len(labels)):\n",
    "            plt.text(j, i, format(cm[i, j], '.2f'), horizontalalignment=\"center\", color=\"white\" if cm[i, j] > cm.max() / 2 else \"black\")\n",
    "\n",
    "    plt.tight_layout()\n",
    "    plt.ylabel('True label')\n",
    "    plt.xlabel('Predicted label')\n"
   ]
  },
  {
   "cell_type": "code",
   "execution_count": 16,
   "metadata": {},
   "outputs": [],
   "source": [
    "def SNR_accuracy(in_snr, model, name):\n",
    "    \"\"\"\n",
    "    Computes accuracies of chosen SNRs individualy\n",
    "\n",
    "    INPUT : \n",
    "        in_snr: It means SNR_RANGE.  must be list of SNRs\n",
    "        model : Trained model \n",
    "        name : Model name\n",
    "    \"\"\"\n",
    "\n",
    "    acc = []\n",
    "    for snr in in_snr:\n",
    "        acc_snr = snr\n",
    "        idx_acc_snr = []\n",
    "\n",
    "        for i in range(len(test_idx)):\n",
    "            if int(lbl_SNR[test_idx[i]]) == int(acc_snr):\n",
    "                idx_acc_snr.append(i)\n",
    "\n",
    "        acc_X_test = X_test[idx_acc_snr]\n",
    "        # acc_X_f_test = X_f_test[idx_acc_snr]\n",
    "        acc_Y_test = Y_test[idx_acc_snr]\n",
    "\n",
    "        print('\\nSNR ' + str(acc_snr) + 'dB:')\n",
    "        accuracy_snr = model.evaluate([acc_X_test], acc_Y_test, batch_size=32, verbose=2)\n",
    "        acc.append(accuracy_snr)\n",
    "\n",
    "    acc = np.vstack(acc)\n",
    "    fig = plt.figure()\n",
    "    ax = fig.add_subplot(1, 1, 1)\n",
    "    plt.plot(in_snr, (acc[:,1]*100), 'steelblue', marker='.', markersize= 15, label = name, linestyle = '-',)\n",
    "    ax.legend(loc=4, prop={'size': 25})\n",
    "\n",
    "    x_major_ticks = np.arange(-20, 21, 2)\n",
    "    ax.set_xticks(x_major_ticks)\n",
    "\n",
    "    y_major_ticks = np.arange(0, 101, 10)\n",
    "    y_minor_ticks = np.arange(0, 101, 2)\n",
    "    ax.set_yticks(y_major_ticks)\n",
    "    ax.set_yticks(y_minor_ticks, minor=True)\n",
    "    ax.tick_params(axis='both', which='major', labelsize=10)\n",
    "\n",
    "\n",
    "    ax.grid(which='both',color='lightgray', linestyle='-')\n",
    "\n",
    "    ax.grid(which='minor', alpha=0.2)\n",
    "    ax.grid(which='major', alpha=0.5)\n",
    "\n",
    "    plt.xlim(-21, 21)\n",
    "    plt.ylim(0,100)\n",
    "    plt.title(\"Classification Accuracy\",fontsize=20)\n",
    "    plt.ylabel('Accuracy (%)',fontsize=20)\n",
    "    plt.xlabel('SNR (dB)',fontsize=20)\n",
    "  \n",
    "    plt.show()\n",
    "\n",
    "    return acc[:,1]"
   ]
  },
  {
   "cell_type": "code",
   "execution_count": 18,
   "metadata": {},
   "outputs": [
    {
     "data": {
      "image/png": "[encoded data removed]",
      "text/plain": [
       "<Figure size 640x480 with 1 Axes>"
      ]
     },
     "metadata": {},
     "output_type": "display_data"
    }
   ],
   "source": [
    "# Acc의 추이 확인\n",
    "plt.plot(history.history['accuracy'])\n",
    "plt.title('Accuracy')\n",
    "plt.xlabel('Epoch')\n",
    "plt.ylabel('acc')\n",
    "plt.legend(['Accuracy'], loc='upper right')\n",
    "plt.show()"
   ]
  },
  {
   "cell_type": "code",
   "execution_count": 19,
   "metadata": {},
   "outputs": [
    {
     "data": {
      "image/png": "[encoded data removed]",
      "text/plain": [
       "<Figure size 640x480 with 1 Axes>"
      ]
     },
     "metadata": {},
     "output_type": "display_data"
    }
   ],
   "source": [
    "# 학습 손실과 검증 손실의 추이 확인\n",
    "plt.plot(history.history['loss'])\n",
    "plt.plot(history.history['val_loss'])\n",
    "plt.title('Model Loss')\n",
    "plt.xlabel('Epoch')\n",
    "plt.ylabel('Loss')\n",
    "plt.legend(['Train', 'Validation'], loc='upper right')\n",
    "plt.show()"
   ]
  },
  {
   "cell_type": "code",
   "execution_count": 21,
   "metadata": {},
   "outputs": [
    {
     "name": "stdout",
     "output_type": "stream",
     "text": [
      "\u001b[1m193/193\u001b[0m \u001b[32m━━━━━━━━━━━━━━━━━━━━\u001b[0m\u001b[37m\u001b[0m \u001b[1m4s\u001b[0m 21ms/step\n"
     ]
    },
    {
     "data": {
      "image/png": "[encoded data removed]",
      "text/plain": [
       "<Figure size 640x480 with 1 Axes>"
      ]
     },
     "metadata": {},
     "output_type": "display_data"
    }
   ],
   "source": [
    "# Check predict calsprobabilities\n",
    "Y_predict = model_cnn.predict(X_test)\n",
    "\n",
    "result_array = np.array(Y_predict)\n",
    "\n",
    "class_labels = classes\n",
    "\n",
    "rand = random.randrange(0, len(Y_predict)-1)\n",
    "\n",
    "# 막대 그래프 생성\n",
    "plt.bar(class_labels, result_array[rand])\n",
    "\n",
    "# 축 및 제목 설정\n",
    "plt.xlabel('Class')\n",
    "plt.ylabel('Probability')\n",
    "plt.title('Predicted Class Probabilities')\n",
    "\n",
    "# 그래프 출력\n",
    "plt.show()"
   ]
  },
  {
   "cell_type": "code",
   "execution_count": 22,
   "metadata": {},
   "outputs": [
    {
     "data": {
      "image/png": "[encoded data removed]",
      "text/plain": [
       "<Figure size 640x480 with 2 Axes>"
      ]
     },
     "metadata": {},
     "output_type": "display_data"
    }
   ],
   "source": [
    "# Calculate confusion matrix\n",
    "conf = np.zeros([len(classes),len(classes)])\n",
    "confnorm = np.zeros([len(classes),len(classes)])\n",
    "for i in range(0,X_test.shape[0]):\n",
    "    j = list(Y_test[i,:]).index(1)\n",
    "    k = int(np.argmax(Y_predict[i,:]))\n",
    "    conf[j,k] = conf[j,k] + 1\n",
    "for i in range(0,len(classes)):\n",
    "    confnorm[i,:] = conf[i,:] / np.sum(conf[i,:])\n",
    "    \n",
    "# Plot confusion matrix\n",
    "plot_confusion_matrix(confnorm, labels=classes)"
   ]
  },
  {
   "cell_type": "code",
   "execution_count": null,
   "metadata": {},
   "outputs": [
    {
     "name": "stdout",
     "output_type": "stream",
     "text": [
      "\n",
      "SNR -20dB:\n",
      "5/5 - 0s - 35ms/step - accuracy: 0.3133 - loss: 1.0990\n",
      "\n",
      "SNR -19dB:\n",
      "5/5 - 0s - 8ms/step - accuracy: 0.3442 - loss: 1.0979\n",
      "\n",
      "SNR -18dB:\n",
      "5/5 - 0s - 6ms/step - accuracy: 0.3446 - loss: 1.0983\n",
      "\n",
      "SNR -17dB:\n",
      "6/6 - 0s - 8ms/step - accuracy: 0.3294 - loss: 1.0988\n",
      "\n",
      "SNR -16dB:\n",
      "5/5 - 0s - 6ms/step - accuracy: 0.3111 - loss: 1.0993\n",
      "\n",
      "SNR -15dB:\n",
      "5/5 - 0s - 6ms/step - accuracy: 0.2953 - loss: 1.0993\n",
      "\n",
      "SNR -14dB:\n",
      "6/6 - 0s - 8ms/step - accuracy: 0.3140 - loss: 1.0988\n",
      "\n",
      "SNR -13dB:\n",
      "5/5 - 0s - 5ms/step - accuracy: 0.4250 - loss: 1.0978\n",
      "\n",
      "SNR -12dB:\n",
      "4/4 - 0s - 7ms/step - accuracy: 0.3276 - loss: 1.0986\n",
      "\n",
      "SNR -11dB:\n",
      "5/5 - 0s - 8ms/step - accuracy: 0.2877 - loss: 1.0989\n",
      "\n",
      "SNR -10dB:\n",
      "6/6 - 0s - 7ms/step - accuracy: 0.3395 - loss: 1.0992\n",
      "\n",
      "SNR -9dB:\n",
      "6/6 - 0s - 6ms/step - accuracy: 0.3468 - loss: 1.0981\n",
      "\n",
      "SNR -8dB:\n",
      "5/5 - 0s - 6ms/step - accuracy: 0.3264 - loss: 1.0992\n",
      "\n",
      "SNR -7dB:\n",
      "5/5 - 0s - 4ms/step - accuracy: 0.3154 - loss: 1.1003\n",
      "\n",
      "SNR -6dB:\n",
      "5/5 - 0s - 7ms/step - accuracy: 0.2975 - loss: 1.0990\n",
      "\n",
      "SNR -5dB:\n",
      "5/5 - 0s - 8ms/step - accuracy: 0.3382 - loss: 1.0994\n",
      "\n",
      "SNR -4dB:\n",
      "5/5 - 0s - 7ms/step - accuracy: 0.3691 - loss: 1.0987\n",
      "\n",
      "SNR -3dB:\n",
      "5/5 - 0s - 6ms/step - accuracy: 0.3228 - loss: 1.0988\n",
      "\n",
      "SNR -2dB:\n",
      "5/5 - 0s - 5ms/step - accuracy: 0.2838 - loss: 1.0988\n",
      "\n",
      "SNR -1dB:\n",
      "5/5 - 0s - 6ms/step - accuracy: 0.3701 - loss: 1.0977\n",
      "\n",
      "SNR 0dB:\n",
      "6/6 - 0s - 5ms/step - accuracy: 0.3455 - loss: 1.0992\n",
      "\n",
      "SNR 1dB:\n",
      "5/5 - 0s - 7ms/step - accuracy: 0.3354 - loss: 1.0981\n",
      "\n",
      "SNR 2dB:\n",
      "5/5 - 0s - 7ms/step - accuracy: 0.2727 - loss: 1.0984\n",
      "\n",
      "SNR 3dB:\n",
      "5/5 - 0s - 6ms/step - accuracy: 0.2975 - loss: 1.0983\n",
      "\n",
      "SNR 4dB:\n",
      "5/5 - 0s - 6ms/step - accuracy: 0.3178 - loss: 1.0977\n",
      "\n",
      "SNR 5dB:\n",
      "5/5 - 0s - 5ms/step - accuracy: 0.3333 - loss: 1.0980\n",
      "\n",
      "SNR 6dB:\n",
      "5/5 - 0s - 7ms/step - accuracy: 0.2800 - loss: 1.0992\n",
      "\n",
      "SNR 7dB:\n",
      "5/5 - 0s - 6ms/step - accuracy: 0.3060 - loss: 1.0992\n",
      "\n",
      "SNR 8dB:\n",
      "6/6 - 0s - 5ms/step - accuracy: 0.3293 - loss: 1.0986\n",
      "\n",
      "SNR 9dB:\n",
      "5/5 - 0s - 8ms/step - accuracy: 0.3459 - loss: 1.0991\n",
      "\n",
      "SNR 10dB:\n",
      "5/5 - 0s - 6ms/step - accuracy: 0.3588 - loss: 1.0984\n",
      "\n",
      "SNR 11dB:\n",
      "5/5 - 0s - 5ms/step - accuracy: 0.3169 - loss: 1.0981\n",
      "\n",
      "SNR 12dB:\n",
      "5/5 - 0s - 6ms/step - accuracy: 0.3490 - loss: 1.0981\n",
      "\n",
      "SNR 13dB:\n",
      "5/5 - 0s - 5ms/step - accuracy: 0.3378 - loss: 1.0987\n",
      "\n",
      "SNR 14dB:\n",
      "6/6 - 0s - 5ms/step - accuracy: 0.3091 - loss: 1.0984\n",
      "\n",
      "SNR 15dB:\n",
      "5/5 - 0s - 6ms/step - accuracy: 0.3103 - loss: 1.0995\n",
      "\n",
      "SNR 16dB:\n",
      "5/5 - 0s - 7ms/step - accuracy: 0.3716 - loss: 1.0979\n",
      "\n",
      "SNR 17dB:\n",
      "5/5 - 0s - 6ms/step - accuracy: 0.2721 - loss: 1.0990\n",
      "\n",
      "SNR 18dB:\n",
      "5/5 - 0s - 6ms/step - accuracy: 0.4079 - loss: 1.0977\n",
      "\n",
      "SNR 19dB:\n",
      "6/6 - 0s - 4ms/step - accuracy: 0.3212 - loss: 1.0983\n",
      "\n",
      "SNR 20dB:\n",
      "6/6 - 0s - 5ms/step - accuracy: 0.3313 - loss: 1.0985\n"
     ]
    },
    {
     "data": {
      "image/png": "[encoded data removed]",
      "text/plain": [
       "<Figure size 640x480 with 1 Axes>"
      ]
     },
     "metadata": {},
     "output_type": "display_data"
    }
   ],
   "source": [
    "# Plot classfication accuracy by each SNR\n",
    "acc = SNR_accuracy(snr, model_cnn, 'CNN')"
   ]
  },
  {
   "cell_type": "code",
   "execution_count": null,
   "metadata": {},
   "outputs": [],
   "source": []
  }
 ],
 "metadata": {
  "kernelspec": {
   "display_name": "haneol",
   "language": "python",
   "name": "python3"
  },
  "language_info": {
   "codemirror_mode": {
    "name": "ipython",
    "version": 3
   },
   "file_extension": ".py",
   "mimetype": "text/x-python",
   "name": "python",
   "nbconvert_exporter": "python",
   "pygments_lexer": "ipython3",
   "version": "3.11.4"
  }
 },
 "nbformat": 4,
 "nbformat_minor": 2
}
