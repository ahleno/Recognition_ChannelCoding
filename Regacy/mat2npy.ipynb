{
 "cells": [
  {
   "cell_type": "code",
   "execution_count": 8,
   "id": "569328f5",
   "metadata": {},
   "outputs": [],
   "source": [
    "# npy 파일 저장할 폴더 명 지정\n",
    "folder_name = input()"
   ]
  },
  {
   "cell_type": "code",
   "execution_count": 9,
   "id": "c16aaf97",
   "metadata": {
    "scrolled": false
   },
   "outputs": [
    {
     "name": "stderr",
     "output_type": "stream",
     "text": [
      "Loading Files:   0%|          | 0/41 [00:00<?, ?it/s]"
     ]
    },
    {
     "name": "stdout",
     "output_type": "stream",
     "text": [
      "-20 폴더 생성\n"
     ]
    },
    {
     "name": "stderr",
     "output_type": "stream",
     "text": [
      "Loading Files:   2%|▏         | 1/41 [00:03<02:18,  3.46s/it]"
     ]
    },
    {
     "name": "stdout",
     "output_type": "stream",
     "text": [
      "-19 폴더 생성\n"
     ]
    },
    {
     "name": "stderr",
     "output_type": "stream",
     "text": [
      "Loading Files:   5%|▍         | 2/41 [00:06<02:16,  3.50s/it]"
     ]
    },
    {
     "name": "stdout",
     "output_type": "stream",
     "text": [
      "-18 폴더 생성\n"
     ]
    },
    {
     "name": "stderr",
     "output_type": "stream",
     "text": [
      "Loading Files:   7%|▋         | 3/41 [00:10<02:13,  3.50s/it]"
     ]
    },
    {
     "name": "stdout",
     "output_type": "stream",
     "text": [
      "-17 폴더 생성\n"
     ]
    },
    {
     "name": "stderr",
     "output_type": "stream",
     "text": [
      "Loading Files:  10%|▉         | 4/41 [00:14<02:10,  3.52s/it]"
     ]
    },
    {
     "name": "stdout",
     "output_type": "stream",
     "text": [
      "-16 폴더 생성\n"
     ]
    },
    {
     "name": "stderr",
     "output_type": "stream",
     "text": [
      "Loading Files:  12%|█▏        | 5/41 [00:17<02:05,  3.48s/it]"
     ]
    },
    {
     "name": "stdout",
     "output_type": "stream",
     "text": [
      "-15 폴더 생성\n"
     ]
    },
    {
     "name": "stderr",
     "output_type": "stream",
     "text": [
      "Loading Files:  15%|█▍        | 6/41 [00:20<02:02,  3.49s/it]"
     ]
    },
    {
     "name": "stdout",
     "output_type": "stream",
     "text": [
      "-14 폴더 생성\n"
     ]
    },
    {
     "name": "stderr",
     "output_type": "stream",
     "text": [
      "Loading Files:  17%|█▋        | 7/41 [00:24<01:57,  3.45s/it]"
     ]
    },
    {
     "name": "stdout",
     "output_type": "stream",
     "text": [
      "-13 폴더 생성\n"
     ]
    },
    {
     "name": "stderr",
     "output_type": "stream",
     "text": [
      "Loading Files:  20%|█▉        | 8/41 [00:27<01:54,  3.48s/it]"
     ]
    },
    {
     "name": "stdout",
     "output_type": "stream",
     "text": [
      "-12 폴더 생성\n"
     ]
    },
    {
     "name": "stderr",
     "output_type": "stream",
     "text": [
      "Loading Files:  22%|██▏       | 9/41 [00:31<01:50,  3.46s/it]"
     ]
    },
    {
     "name": "stdout",
     "output_type": "stream",
     "text": [
      "-11 폴더 생성\n"
     ]
    },
    {
     "name": "stderr",
     "output_type": "stream",
     "text": [
      "Loading Files:  24%|██▍       | 10/41 [00:34<01:48,  3.51s/it]"
     ]
    },
    {
     "name": "stdout",
     "output_type": "stream",
     "text": [
      "-10 폴더 생성\n"
     ]
    },
    {
     "name": "stderr",
     "output_type": "stream",
     "text": [
      "Loading Files:  27%|██▋       | 11/41 [00:38<01:45,  3.50s/it]"
     ]
    },
    {
     "name": "stdout",
     "output_type": "stream",
     "text": [
      "-9 폴더 생성\n"
     ]
    },
    {
     "name": "stderr",
     "output_type": "stream",
     "text": [
      "Loading Files:  29%|██▉       | 12/41 [00:41<01:42,  3.52s/it]"
     ]
    },
    {
     "name": "stdout",
     "output_type": "stream",
     "text": [
      "-8 폴더 생성\n"
     ]
    },
    {
     "name": "stderr",
     "output_type": "stream",
     "text": [
      "Loading Files:  32%|███▏      | 13/41 [00:45<01:38,  3.51s/it]"
     ]
    },
    {
     "name": "stdout",
     "output_type": "stream",
     "text": [
      "-7 폴더 생성\n"
     ]
    },
    {
     "name": "stderr",
     "output_type": "stream",
     "text": [
      "Loading Files:  34%|███▍      | 14/41 [00:49<01:35,  3.53s/it]"
     ]
    },
    {
     "name": "stdout",
     "output_type": "stream",
     "text": [
      "-6 폴더 생성\n"
     ]
    },
    {
     "name": "stderr",
     "output_type": "stream",
     "text": [
      "Loading Files:  37%|███▋      | 15/41 [00:52<01:31,  3.52s/it]"
     ]
    },
    {
     "name": "stdout",
     "output_type": "stream",
     "text": [
      "-5 폴더 생성\n"
     ]
    },
    {
     "name": "stderr",
     "output_type": "stream",
     "text": [
      "Loading Files:  39%|███▉      | 16/41 [00:56<01:28,  3.53s/it]"
     ]
    },
    {
     "name": "stdout",
     "output_type": "stream",
     "text": [
      "-4 폴더 생성\n"
     ]
    },
    {
     "name": "stderr",
     "output_type": "stream",
     "text": [
      "Loading Files:  41%|████▏     | 17/41 [00:59<01:25,  3.55s/it]"
     ]
    },
    {
     "name": "stdout",
     "output_type": "stream",
     "text": [
      "-3 폴더 생성\n"
     ]
    },
    {
     "name": "stderr",
     "output_type": "stream",
     "text": [
      "Loading Files:  44%|████▍     | 18/41 [01:03<01:22,  3.58s/it]"
     ]
    },
    {
     "name": "stdout",
     "output_type": "stream",
     "text": [
      "-2 폴더 생성\n"
     ]
    },
    {
     "name": "stderr",
     "output_type": "stream",
     "text": [
      "Loading Files:  46%|████▋     | 19/41 [01:07<01:20,  3.65s/it]"
     ]
    },
    {
     "name": "stdout",
     "output_type": "stream",
     "text": [
      "-1 폴더 생성\n"
     ]
    },
    {
     "name": "stderr",
     "output_type": "stream",
     "text": [
      "Loading Files:  49%|████▉     | 20/41 [01:10<01:16,  3.62s/it]"
     ]
    },
    {
     "name": "stdout",
     "output_type": "stream",
     "text": [
      "0 폴더 생성\n"
     ]
    },
    {
     "name": "stderr",
     "output_type": "stream",
     "text": [
      "Loading Files:  51%|█████     | 21/41 [01:14<01:11,  3.58s/it]"
     ]
    },
    {
     "name": "stdout",
     "output_type": "stream",
     "text": [
      "1 폴더 생성\n"
     ]
    },
    {
     "name": "stderr",
     "output_type": "stream",
     "text": [
      "Loading Files:  54%|█████▎    | 22/41 [01:17<01:07,  3.56s/it]"
     ]
    },
    {
     "name": "stdout",
     "output_type": "stream",
     "text": [
      "2 폴더 생성\n"
     ]
    },
    {
     "name": "stderr",
     "output_type": "stream",
     "text": [
      "Loading Files:  56%|█████▌    | 23/41 [01:21<01:03,  3.54s/it]"
     ]
    },
    {
     "name": "stdout",
     "output_type": "stream",
     "text": [
      "3 폴더 생성\n"
     ]
    },
    {
     "name": "stderr",
     "output_type": "stream",
     "text": [
      "Loading Files:  59%|█████▊    | 24/41 [01:24<00:59,  3.52s/it]"
     ]
    },
    {
     "name": "stdout",
     "output_type": "stream",
     "text": [
      "4 폴더 생성\n"
     ]
    },
    {
     "name": "stderr",
     "output_type": "stream",
     "text": [
      "Loading Files:  61%|██████    | 25/41 [01:28<00:57,  3.60s/it]"
     ]
    },
    {
     "name": "stdout",
     "output_type": "stream",
     "text": [
      "5 폴더 생성\n"
     ]
    },
    {
     "name": "stderr",
     "output_type": "stream",
     "text": [
      "Loading Files:  63%|██████▎   | 26/41 [01:32<00:55,  3.68s/it]"
     ]
    },
    {
     "name": "stdout",
     "output_type": "stream",
     "text": [
      "6 폴더 생성\n"
     ]
    },
    {
     "name": "stderr",
     "output_type": "stream",
     "text": [
      "Loading Files:  66%|██████▌   | 27/41 [01:35<00:51,  3.64s/it]"
     ]
    },
    {
     "name": "stdout",
     "output_type": "stream",
     "text": [
      "7 폴더 생성\n"
     ]
    },
    {
     "name": "stderr",
     "output_type": "stream",
     "text": [
      "Loading Files:  68%|██████▊   | 28/41 [01:39<00:47,  3.64s/it]"
     ]
    },
    {
     "name": "stdout",
     "output_type": "stream",
     "text": [
      "8 폴더 생성\n"
     ]
    },
    {
     "name": "stderr",
     "output_type": "stream",
     "text": [
      "Loading Files:  71%|███████   | 29/41 [01:43<00:44,  3.67s/it]"
     ]
    },
    {
     "name": "stdout",
     "output_type": "stream",
     "text": [
      "9 폴더 생성\n"
     ]
    },
    {
     "name": "stderr",
     "output_type": "stream",
     "text": [
      "Loading Files:  73%|███████▎  | 30/41 [01:46<00:40,  3.67s/it]"
     ]
    },
    {
     "name": "stdout",
     "output_type": "stream",
     "text": [
      "10 폴더 생성\n"
     ]
    },
    {
     "name": "stderr",
     "output_type": "stream",
     "text": [
      "Loading Files:  76%|███████▌  | 31/41 [01:51<00:38,  3.81s/it]"
     ]
    },
    {
     "name": "stdout",
     "output_type": "stream",
     "text": [
      "11 폴더 생성\n"
     ]
    },
    {
     "name": "stderr",
     "output_type": "stream",
     "text": [
      "Loading Files:  78%|███████▊  | 32/41 [01:54<00:34,  3.82s/it]"
     ]
    },
    {
     "name": "stdout",
     "output_type": "stream",
     "text": [
      "12 폴더 생성\n"
     ]
    },
    {
     "name": "stderr",
     "output_type": "stream",
     "text": [
      "Loading Files:  80%|████████  | 33/41 [01:58<00:30,  3.79s/it]"
     ]
    },
    {
     "name": "stdout",
     "output_type": "stream",
     "text": [
      "13 폴더 생성\n"
     ]
    },
    {
     "name": "stderr",
     "output_type": "stream",
     "text": [
      "Loading Files:  83%|████████▎ | 34/41 [02:02<00:25,  3.70s/it]"
     ]
    },
    {
     "name": "stdout",
     "output_type": "stream",
     "text": [
      "14 폴더 생성\n"
     ]
    },
    {
     "name": "stderr",
     "output_type": "stream",
     "text": [
      "Loading Files:  85%|████████▌ | 35/41 [02:05<00:21,  3.63s/it]"
     ]
    },
    {
     "name": "stdout",
     "output_type": "stream",
     "text": [
      "15 폴더 생성\n"
     ]
    },
    {
     "name": "stderr",
     "output_type": "stream",
     "text": [
      "Loading Files:  88%|████████▊ | 36/41 [02:09<00:17,  3.57s/it]"
     ]
    },
    {
     "name": "stdout",
     "output_type": "stream",
     "text": [
      "16 폴더 생성\n"
     ]
    },
    {
     "name": "stderr",
     "output_type": "stream",
     "text": [
      "Loading Files:  90%|█████████ | 37/41 [02:12<00:14,  3.55s/it]"
     ]
    },
    {
     "name": "stdout",
     "output_type": "stream",
     "text": [
      "17 폴더 생성\n"
     ]
    },
    {
     "name": "stderr",
     "output_type": "stream",
     "text": [
      "Loading Files:  93%|█████████▎| 38/41 [02:15<00:10,  3.50s/it]"
     ]
    },
    {
     "name": "stdout",
     "output_type": "stream",
     "text": [
      "18 폴더 생성\n"
     ]
    },
    {
     "name": "stderr",
     "output_type": "stream",
     "text": [
      "Loading Files:  95%|█████████▌| 39/41 [02:19<00:06,  3.46s/it]"
     ]
    },
    {
     "name": "stdout",
     "output_type": "stream",
     "text": [
      "19 폴더 생성\n"
     ]
    },
    {
     "name": "stderr",
     "output_type": "stream",
     "text": [
      "Loading Files:  98%|█████████▊| 40/41 [02:23<00:03,  3.56s/it]"
     ]
    },
    {
     "name": "stdout",
     "output_type": "stream",
     "text": [
      "20 폴더 생성\n"
     ]
    },
    {
     "name": "stderr",
     "output_type": "stream",
     "text": [
      "Loading Files: 100%|██████████| 41/41 [02:27<00:00,  3.59s/it]\n"
     ]
    }
   ],
   "source": [
    "import os\n",
    "import os.path\n",
    "import scipy\n",
    "from scipy.io import loadmat\n",
    "import numpy as np\n",
    "import re\n",
    "from tqdm import tqdm, trange\n",
    "\n",
    "snr = range(-20, 21, 1)\n",
    "base = r\"C:\\Users\\USER-PC\\Documents\\MATLAB\\CH_2\\dataset\"\n",
    "dest = os.path.join(r\"C:\\Users\\USER-PC\\haneol\", folder_name)\n",
    "\n",
    "if not os.path.exists(dest):\n",
    "    os.mkdir(dest)\n",
    "\n",
    "for i in tqdm(snr, desc=\"Loading Files\"):\n",
    "    base_dir = os.path.join(base, str(i))\n",
    "    dest_dir = os.path.join(dest, str(i))\n",
    "    \n",
    "    if not os.path.exists(dest_dir):\n",
    "        os.mkdir(dest_dir)\n",
    "        print(str(i) + \" 폴더 생성\")\n",
    "    \n",
    "    # 디렉토리 내의 모든 .mat 파일 목록 가져오기\n",
    "    files = [f for f in os.listdir(base_dir) if f.endswith('.mat')]\n",
    "\n",
    "    for file in tqdm(files, desc=f\"SNR {i}\", position=0, leave=False):\n",
    "        # 절대 경로 생성하기\n",
    "        filepath = os.path.join(base_dir, file)\n",
    "\n",
    "        # .mat 데이터 로드하기\n",
    "        mat_data = scipy.io.loadmat(filepath)\n",
    "\n",
    "        # frame 추출\n",
    "        frame = mat_data['frame']\n",
    "        \n",
    "        # frame = frame.real.reshape(-1,1)\n",
    "\n",
    "        # np 배열 생성\n",
    "        data = np.array(frame)  \n",
    "\n",
    "        # new_name 생성\n",
    "        file_name = re.sub(r'.mat', '', file)\n",
    "        new_name = file_name + \".npy\"\n",
    "\n",
    "        # npy 파일로 저장\n",
    "        np.save(os.path.join(dest_dir, new_name), data)"
   ]
  },
  {
   "cell_type": "code",
   "execution_count": null,
   "id": "2cde3043",
   "metadata": {
    "scrolled": true
   },
   "outputs": [],
   "source": [
    "import os\n",
    "import os.path\n",
    "import scipy\n",
    "from scipy.io import loadmat\n",
    "import numpy as np\n",
    "import re\n",
    "from tqdm import tqdm\n",
    "\n",
    "snr = range(-20, 21, 1)\n",
    "base = r\"C:\\Users\\USER-PC\\Documents\\MATLAB\\CH_2\\demod\"\n",
    "dest = os.path.join(r\"C:\\Users\\USER-PC\\haneol\", folder_name)\n",
    "\n",
    "for i in tqdm(snr):\n",
    "    base_dir = os.path.join(base, str(i))\n",
    "    dest_dir = os.path.join(dest, str(i))\n",
    "    \n",
    "    if not os.path.exists(dest_dir):\n",
    "        os.mkdir(dest_dir)\n",
    "        print(str(i) + \" 폴더 생성\")\n",
    "    \n",
    "    # 디렉토리 내의 모든 .mat 파일 목록 가져오기\n",
    "    files = [f for f in os.listdir(base_dir) if f.endswith('.mat')]\n",
    "\n",
    "    for file in files:\n",
    "        # 절대 경로 생성하기\n",
    "        filepath = os.path.join(base_dir, file)\n",
    "\n",
    "        # .mat 데이터 로드하기\n",
    "        mat_data = scipy.io.loadmat(filepath)\n",
    "\n",
    "        # frame 추출\n",
    "        frame = mat_data['frame']\n",
    "\n",
    "        # np 배열 생성\n",
    "        data = np.array(frame)  \n",
    "\n",
    "        # new_name 생성\n",
    "        file_name = re.sub(r'.mat', '', file)\n",
    "        new_name = file_name + \".npy\"\n",
    "\n",
    "        # npy 파일로 저장\n",
    "        np.save(os.path.join(dest_dir, new_name), data)"
   ]
  },
  {
   "cell_type": "code",
   "execution_count": null,
   "id": "7d0a9e0b",
   "metadata": {},
   "outputs": [],
   "source": [
    "import numpy as np\n",
    "import pandas as pd\n",
    "\n",
    "snr = range(-20, 21, 2)\n",
    "\n",
    "df = pd.read_csv(r'C:\\Users\\FCSL\\Downloads\\Data\\polar.csv')\n",
    "\n",
    "npy = np.array(df)\n",
    "\n",
    "complex_array = npy[:, 0] + 1j * npy[:, 1]\n",
    "complex_array = np.array(npy[:, 0] + 1j * npy[:, 1], dtype=complex)\n",
    "complex_array = np.append(complex_array, complex_array[-1]) # 데이터가 1개 부족\n",
    "\n",
    "complex_array = complex_array.reshape(21, 1000, 128, 1)\n",
    "\n",
    "complex_array = np.concatenate([complex_array] * 2, axis=1)"
   ]
  },
  {
   "cell_type": "code",
   "execution_count": null,
   "id": "61249491",
   "metadata": {},
   "outputs": [],
   "source": [
    "dest = r\"C:\\Users\\FCSL\\Desktop\\haneol\\dataset4\";\n",
    "\n",
    "for i in range(21):\n",
    "    dest_dir = os.path.join(dest, str(snr[i]))\n",
    "    \n",
    "    if not os.path.exists(dest_dir):\n",
    "        os.mkdir(dest_dir)\n",
    "    \n",
    "    for j in range(2000):\n",
    "        arr = complex_array[i][j]\n",
    "        \n",
    "        file_name = \"POLAR_\" + str(j + 1) + \".npy\"\n",
    "        \n",
    "        np.save(os.path.join(dest_dir, file_name), arr)"
   ]
  },
  {
   "cell_type": "code",
   "execution_count": null,
   "id": "5586daea",
   "metadata": {},
   "outputs": [],
   "source": [
    "data.shape"
   ]
  },
  {
   "cell_type": "code",
   "execution_count": 7,
   "id": "85807610",
   "metadata": {},
   "outputs": [],
   "source": [
    "from PIL import Image\n",
    "import numpy as np\n",
    "\n",
    "# 이미지 크기 설정\n",
    "width = 1000\n",
    "height = 30\n",
    "\n",
    "# 주어진 I 값 가져오기 (예시로 임의의 I 값 사용)\n",
    "I_values = np.linspace(-1, 1, width)\n",
    "\n",
    "# 이미지 생성\n",
    "image = Image.new('L', (width, height))\n",
    "\n",
    "# 이미지에 sin 함수의 값 설정\n",
    "for i, I in enumerate(I_values):\n",
    "    x = int((i / width) * width)\n",
    "    y = int((1 - (np.sin(I) + 1) / 2) * height)  # sin 함수 값의 범위를 [0, height]로 매핑\n",
    "    image.putpixel((x, y), 255)  # 흰색으로 설정\n",
    "\n",
    "# 이미지 저장 또는 표시\n",
    "image.show()"
   ]
  }
 ],
 "metadata": {
  "kernelspec": {
   "display_name": "Python 3 (ipykernel)",
   "language": "python",
   "name": "python3"
  },
  "language_info": {
   "codemirror_mode": {
    "name": "ipython",
    "version": 3
   },
   "file_extension": ".py",
   "mimetype": "text/x-python",
   "name": "python",
   "nbconvert_exporter": "python",
   "pygments_lexer": "ipython3",
   "version": "3.11.4"
  }
 },
 "nbformat": 4,
 "nbformat_minor": 5
}
