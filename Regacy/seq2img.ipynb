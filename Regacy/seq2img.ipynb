{
 "cells": [
  {
   "cell_type": "code",
   "execution_count": 1,
   "metadata": {},
   "outputs": [
    {
     "name": "stderr",
     "output_type": "stream",
     "text": [
      "Loading Files: 100%|██████████| 41/41 [02:23<00:00,  3.49s/it]\n"
     ]
    }
   ],
   "source": [
    "import os\n",
    "import os.path\n",
    "import scipy\n",
    "from scipy.io import loadmat\n",
    "from PIL import Image\n",
    "import numpy as np\n",
    "import re\n",
    "from tqdm import tqdm, trange\n",
    "\n",
    "snr = range(-20, 21, 1)\n",
    "base = r\"C:\\Users\\USER-PC\\haneol\\DATASET_HW\"\n",
    "dest = os.path.join(r\"C:\\Users\\USER-PC\\haneol\", 'DATASET_IMG')\n",
    "\n",
    "if not os.path.exists(dest):\n",
    "    os.mkdir(dest)\n",
    "\n",
    "for i in tqdm(snr, desc=\"Loading Files\"):\n",
    "    base_dir = os.path.join(base, str(i))\n",
    "    dest_dir = os.path.join(dest, str(i))\n",
    "    \n",
    "    if not os.path.exists(dest_dir):\n",
    "        os.mkdir(dest_dir)\n",
    "        print(str(i) + \" 폴더 생성\")\n",
    "    \n",
    "    # 디렉토리 내의 모든 .npy 파일 목록 가져오기\n",
    "    files = [f for f in os.listdir(base_dir) if f.endswith('.npy')]\n",
    "\n",
    "    for file in tqdm(files, desc=f\"SNR {i}\", position=0, leave=False):\n",
    "        # 절대 경로 생성하기\n",
    "        filepath = os.path.join(base_dir, file)\n",
    "\n",
    "        # np 배열 읽기\n",
    "        data = np.load(filepath)  \n",
    "\n",
    "        # new_name 생성\n",
    "        file_name = re.sub(r'.npy', '', file)\n",
    "        new_name = file_name + \".jpg\"\n",
    "\n",
    "        width = len(data)\n",
    "        height = 1\n",
    "\n",
    "        # 배열을 이미지로 변환\n",
    "        image_data = data.reshape((height, width)) * 255 \n",
    "        image = Image.fromarray(image_data.astype(np.uint8), mode='L') \n",
    "\n",
    "        # 이미지를 파일로 저장하거나 화면에 표시\n",
    "        image.save(os.path.join(dest_dir, new_name), format='JPEG')  \n",
    "        # image.show()  \n"
   ]
  },
  {
   "cell_type": "markdown",
   "metadata": {},
   "source": [
    "# Sin Image"
   ]
  },
  {
   "cell_type": "code",
   "execution_count": 7,
   "metadata": {},
   "outputs": [
    {
     "name": "stderr",
     "output_type": "stream",
     "text": [
      "SNR -20:   0%|          | 0/1500 [00:00<?, ?it/s]t/s]C:\\Users\\USER-PC\\AppData\\Local\\Temp\\ipykernel_11780\\1590988123.py:55: DeprecationWarning: Conversion of an array with ndim > 0 to a scalar is deprecated, and will error in future. Ensure you extract a single element from your array before performing this operation. (Deprecated NumPy 1.25.)\n",
      "  y = int((1 - (pixel_value + 64) / 128) * height)  # 픽셀 값을 [0, height]로 매핑\n",
      "Loading Files: 100%|██████████| 41/41 [03:29<00:00,  5.11s/it]\n"
     ]
    }
   ],
   "source": [
    "import os\n",
    "import os.path\n",
    "from PIL import Image\n",
    "import numpy as np\n",
    "import re\n",
    "from tqdm import tqdm\n",
    "\n",
    "snr = range(-20, 21, 1)\n",
    "base = r\"C:\\Users\\USER-PC\\haneol\\DATASET_I\"\n",
    "dest = os.path.join(r\"C:\\Users\\USER-PC\\haneol\", 'DATASET_IMG_SIN')\n",
    "\n",
    "if not os.path.exists(dest):\n",
    "    os.mkdir(dest)\n",
    "\n",
    "for i in tqdm(snr, desc=\"Loading Files\"):\n",
    "    base_dir = os.path.join(base, str(i))\n",
    "    dest_dir = os.path.join(dest, str(i))\n",
    "    \n",
    "    if not os.path.exists(dest_dir):\n",
    "        os.mkdir(dest_dir)\n",
    "        print(str(i) + \" 폴더 생성\")\n",
    "    \n",
    "    # 디렉토리 내의 모든 .npy 파일 목록 가져오기\n",
    "    files = [f for f in os.listdir(base_dir) if f.endswith('.npy')]\n",
    "\n",
    "    for file in tqdm(files, desc=f\"SNR {i}\", position=0, leave=False):\n",
    "        # 절대 경로 생성하기\n",
    "        filepath = os.path.join(base_dir, file)\n",
    "\n",
    "        # np 배열 읽기\n",
    "        data = np.load(filepath)\n",
    "        \n",
    "        # I channel 추출\n",
    "        data = data.real\n",
    "        \n",
    "        # I 값의 범위를 -1에서 1로 매핑\n",
    "        min_I = -30\n",
    "        max_I = 30\n",
    "        normalized_I = (data - min_I) / (max_I - min_I) * 2 - 1\n",
    "        \n",
    "        # -1에서 1로 매핑된 값에 대해 -64에서 64까지의 픽셀 범위로 변환\n",
    "        pixel_values = normalized_I * 64\n",
    "\n",
    "        # new_name 생성\n",
    "        file_name = re.sub(r'.npy', '', file)\n",
    "        new_name = file_name + \".jpg\"\n",
    "\n",
    "        # 이미지 생성\n",
    "        width = len(pixel_values)\n",
    "        height = 128\n",
    "        image = Image.new('L', (width, height))\n",
    "\n",
    "        for i, pixel_value in enumerate(pixel_values):\n",
    "            x = int((i / width) * width)\n",
    "            y = int((1 - (pixel_value + 64) / 128) * height)  # 픽셀 값을 [0, height]로 매핑\n",
    "\n",
    "            # 픽셀 좌표가 이미지의 범위를 벗어나지 않는지 확인\n",
    "            if 0 <= x < width and 0 <= y < height:\n",
    "                image.putpixel((x, y), 255)  # 흰색으로 설정\n",
    "\n",
    "        # 이미지를 파일로 저장\n",
    "        image.save(os.path.join(dest_dir, new_name), format='JPEG')\n"
   ]
  },
  {
   "cell_type": "markdown",
   "metadata": {},
   "source": [
    "# I Channel"
   ]
  },
  {
   "cell_type": "code",
   "execution_count": 1,
   "metadata": {},
   "outputs": [
    {
     "name": "stderr",
     "output_type": "stream",
     "text": [
      "Loading Files: 100%|██████████| 41/41 [02:01<00:00,  2.96s/it]\n"
     ]
    }
   ],
   "source": [
    "import os\n",
    "import os.path\n",
    "import scipy\n",
    "from scipy.io import loadmat\n",
    "from PIL import Image\n",
    "import numpy as np\n",
    "import re\n",
    "from tqdm import tqdm, trange\n",
    "\n",
    "snr = range(-20, 21, 1)\n",
    "base = r\"C:\\Users\\USER-PC\\haneol\\DATASET_I\"\n",
    "dest = os.path.join(r\"C:\\Users\\USER-PC\\haneol\", 'DATASET_IMG_I')\n",
    "\n",
    "if not os.path.exists(dest):\n",
    "    os.mkdir(dest)\n",
    "\n",
    "for i in tqdm(snr, desc=\"Loading Files\"):\n",
    "    base_dir = os.path.join(base, str(i))\n",
    "    dest_dir = os.path.join(dest, str(i))\n",
    "    \n",
    "    if not os.path.exists(dest_dir):\n",
    "        os.mkdir(dest_dir)\n",
    "        print(str(i) + \" 폴더 생성\")\n",
    "    \n",
    "    # 디렉토리 내의 모든 .npy 파일 목록 가져오기\n",
    "    files = [f for f in os.listdir(base_dir) if f.endswith('.npy')]\n",
    "\n",
    "    for file in tqdm(files, desc=f\"SNR {i}\", position=0, leave=False):\n",
    "        # 절대 경로 생성하기\n",
    "        filepath = os.path.join(base_dir, file)\n",
    "\n",
    "        # np 배열 읽기\n",
    "        data = np.load(filepath)\n",
    "        \n",
    "        # I channel 추출\n",
    "        data = data.real\n",
    "        print(data)\n",
    "\n",
    "\n",
    "        # 값의 범위를 0~255로 조정하기\n",
    "        min_val = np.min(data)\n",
    "        max_val = np.max(data)\n",
    "        data = (data - min_val) / (max_val - min_val) * 255\n",
    "\n",
    "        # new_name 생성\n",
    "        file_name = re.sub(r'.npy', '', file)\n",
    "        new_name = file_name + \".jpg\"\n",
    "\n",
    "        width = len(data)\n",
    "        height = 1\n",
    "\n",
    "        # 배열을 이미지로 변환\n",
    "        image_data = data.reshape((height, width)).astype(np.uint8)\n",
    "        image = Image.fromarray(image_data, mode='L') \n",
    "\n",
    "        # 이미지를 파일로 저장하거나 화면에 표시\n",
    "        # image.save(os.path.join(dest_dir, new_name), format='JPEG')  \n",
    "        # image.show()\n"
   ]
  }
 ],
 "metadata": {
  "kernelspec": {
   "display_name": "haneol",
   "language": "python",
   "name": "python3"
  },
  "language_info": {
   "codemirror_mode": {
    "name": "ipython",
    "version": 3
   },
   "file_extension": ".py",
   "mimetype": "text/x-python",
   "name": "python",
   "nbconvert_exporter": "python",
   "pygments_lexer": "ipython3",
   "version": "3.11.4"
  }
 },
 "nbformat": 4,
 "nbformat_minor": 2
}
